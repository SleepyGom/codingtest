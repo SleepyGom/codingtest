{
  "nbformat": 4,
  "nbformat_minor": 0,
  "metadata": {
    "colab": {
      "provenance": []
    },
    "kernelspec": {
      "name": "python3",
      "display_name": "Python 3"
    },
    "language_info": {
      "name": "python"
    }
  },
  "cells": [
    {
      "cell_type": "code",
      "source": [
        "!jupyter nbconvert --to markdown 프로그래머스_문제풀이.ipynb"
      ],
      "metadata": {
        "colab": {
          "base_uri": "https://localhost:8080/"
        },
        "id": "nT7OTNvyBXVW",
        "outputId": "f4407970-15fb-48b1-8fbf-7526a8e0cab4"
      },
      "execution_count": null,
      "outputs": [
        {
          "output_type": "stream",
          "name": "stdout",
          "text": [
            "[NbConvertApp] Converting notebook 프로그래머스_문제풀이.ipynb to markdown\n",
            "[NbConvertApp] Writing 11048 bytes to 프로그래머스_문제풀이.md\n"
          ]
        }
      ]
    },
    {
      "cell_type": "markdown",
      "source": [
        "## LV 0"
      ],
      "metadata": {
        "id": "LxxPbhYSxaP4"
      }
    },
    {
      "cell_type": "markdown",
      "source": [
        "### 대문자 만들기"
      ],
      "metadata": {
        "id": "ILhZrLoJx0qQ"
      }
    },
    {
      "cell_type": "code",
      "source": [
        "# 알파벳으로 이루어진 문자열 myString이 주어집니다. \n",
        "# 모든 알파벳을 대문자로 변환하여 return 하는 solution 함수를 완성해 주세요.\n",
        "\n",
        "# 입출력 예\n",
        "# myString\tresult\n",
        "# \"aBcDeFg\"\t\"ABCDEFG\"\n",
        "# \"AAA\"\t\"AAA\"\n",
        "\n",
        "# 풀이\n",
        "def solution(myString):\n",
        "    \n",
        "    return myString.upper()"
      ],
      "metadata": {
        "id": "6TJ34Ch-xhfi"
      },
      "execution_count": null,
      "outputs": []
    },
    {
      "cell_type": "markdown",
      "source": [
        "### 정수찾기"
      ],
      "metadata": {
        "id": "-CtgEjhkxyNx"
      }
    },
    {
      "cell_type": "code",
      "source": [
        "# 정수 리스트 num_list와 찾으려는 정수 n이 주어질 때, \n",
        "# num_list안에 n이 있으면 1을 없으면 0을 return하도록 solution 함수를 완성해주세요.\n",
        "\n",
        "# 입출력 예\n",
        "# num_list\tn\tresult\n",
        "# [1, 2, 3, 4, 5]\t3\t1\n",
        "# [15, 98, 23, 2, 15]\t20\t0\n",
        "\n",
        "# 풀이\n",
        "def solution(num_list, n):\n",
        "    if n in num_list:\n",
        "        return 1\n",
        "    else:\n",
        "        return 0"
      ],
      "metadata": {
        "id": "7drI02k8x7nv"
      },
      "execution_count": null,
      "outputs": []
    },
    {
      "cell_type": "markdown",
      "source": [
        "### 문자열을 정수로 변환하기"
      ],
      "metadata": {
        "id": "tJZopMzwx-VK"
      }
    },
    {
      "cell_type": "code",
      "source": [
        "# 숫자로만 이루어진 문자열 n_str이 주어질 때, \n",
        "# n_str을 정수로 변환하여 return하도록 solution 함수를 완성해주세요.\n",
        "\n",
        "# 입출력 예\n",
        "# n_str\tresult\n",
        "# \"10\"\t10\n",
        "# \"8542\"\t8542\n",
        "\n",
        "# 풀이\n",
        "def solution(n_str):\n",
        "    \n",
        "    return int(n_str)"
      ],
      "metadata": {
        "id": "SGuXBc4Fye7w"
      },
      "execution_count": null,
      "outputs": []
    },
    {
      "cell_type": "markdown",
      "source": [
        "### 부분 문자열인지 확인하기"
      ],
      "metadata": {
        "id": "aS-37nbXy0jh"
      }
    },
    {
      "cell_type": "code",
      "source": [
        "# 부분 문자열이란 문자열에서 연속된 일부분에 해당하는 문자열을 의미합니다.\n",
        "# 예를 들어, 문자열 \"ana\", \"ban\", \"anana\", \"banana\", \"n\"는\n",
        "# 모두 문자열 \"banana\"의 부분 문자열이지만,\n",
        "# \"aaa\", \"bnana\", \"wxyz\"는 모두 \"banana\"의 부분 문자열이 아닙니다.\n",
        "\n",
        "# 문자열 my_string과 target이 매개변수로 주어질 때,\n",
        "# target이 문자열 my_string의 부분 문자열이라면 1을,\n",
        "# 아니라면 0을 return 하는 solution 함수를 작성해 주세요.\n",
        "\n",
        "# 입출력 예\n",
        "# my_string\ttarget\tresult\n",
        "# \"banana\"\t\"ana\"\t1\n",
        "# \"banana\"\t\"wxyz\"\t0\n",
        "\n",
        "# 풀이\n",
        "def solution(my_string, target):\n",
        "    if target in my_string:\n",
        "        return 1\n",
        "    else:\n",
        "        return 0\n",
        "    "
      ],
      "metadata": {
        "id": "UgM1yHN6y1Wc"
      },
      "execution_count": null,
      "outputs": []
    },
    {
      "cell_type": "markdown",
      "source": [
        "### n 번째 원소까지"
      ],
      "metadata": {
        "id": "Zlu2Iqlz386b"
      }
    },
    {
      "cell_type": "code",
      "source": [
        "# 정수 리스트 num_list와 정수 n이 주어질 때, \n",
        "# num_list의 첫 번째 원소부터 n 번째 원소까지의 모든 원소를 담은 리스트를 return하도록 solution 함수를 완성해주세요.\n",
        "\n",
        "# 입출력 예\n",
        "# num_list\tn\tresult\n",
        "# [2, 1, 6]\t1\t[2]\n",
        "# [5, 2, 1, 7, 5]\t3\t[5, 2, 1]\n",
        "\n",
        "# 풀이\n",
        "def solution(num_list, n):\n",
        "    \n",
        "    return num_list[:n]"
      ],
      "metadata": {
        "id": "8cjigxpo399B"
      },
      "execution_count": null,
      "outputs": []
    },
    {
      "cell_type": "markdown",
      "source": [
        "### 문자열의 뒤의 n글자"
      ],
      "metadata": {
        "id": "HPJHOtIE4zCA"
      }
    },
    {
      "cell_type": "code",
      "source": [
        "# 문자열 my_string과 정수 n이 매개변수로 주어질 때,\n",
        "# my_string의 뒤의 n글자로 이루어진 문자열을 return 하는 solution 함수를 작성해 주세요.\n",
        "\n",
        "# 입출력 예\n",
        "# my_string\tn\tresult\n",
        "# \"ProgrammerS123\"\t11\t\"grammerS123\"\n",
        "# \"He110W0r1d\"\t5\t\"W0r1d\"\n",
        "\n",
        "# 풀이\n",
        "def solution(my_string, n):\n",
        "    \n",
        "    return my_string[-n:]"
      ],
      "metadata": {
        "id": "XqfC_1vV4z3a"
      },
      "execution_count": null,
      "outputs": []
    },
    {
      "cell_type": "markdown",
      "source": [
        "### 공백으로 구분하기 1"
      ],
      "metadata": {
        "id": "tS-GvCdq5iRv"
      }
    },
    {
      "cell_type": "code",
      "source": [
        "# 단어가 공백 한 개로 구분되어 있는 문자열 my_string이 매개변수로 주어질 때,\n",
        "# my_string에 나온 단어를 앞에서부터 순서대로 담은 문자열 배열을\n",
        "# return 하는 solution 함수를 작성해 주세요.\n",
        "\n",
        "# 입출력 예\n",
        "# my_string\tresult\n",
        "# \"i love you\"\t[\"i\", \"love\", \"you\"]\n",
        "# \"programmers\"\t[\"programmers\"]\n",
        "\n",
        "# 풀이\n",
        "def solution(my_string):\n",
        "    \n",
        "    return my_string.split(' ')"
      ],
      "metadata": {
        "id": "o6194Ynp5i51"
      },
      "execution_count": null,
      "outputs": []
    },
    {
      "cell_type": "markdown",
      "source": [
        "### 조건에 맞게 수열 변환하기 3"
      ],
      "metadata": {
        "id": "1opNGudj7EED"
      }
    },
    {
      "cell_type": "code",
      "source": [
        "# 정수 배열 arr와 자연수 k가 주어집니다.\n",
        "# 만약 k가 홀수라면 arr의 모든 원소에 k를 곱하고, k가 짝수라면 arr의 모든 원소에 k를 더합니다.\n",
        "# 이러한 변환을 마친 후의 arr를 return 하는 solution 함수를 완성해 주세요.\n",
        "\n",
        "\n",
        "# 입출력 예\n",
        "# arr\tk\tresult\n",
        "# [1, 2, 3, 100, 99, 98]\t3\t[3, 6, 9, 300, 297, 294]\n",
        "# [1, 2, 3, 100, 99, 98]\t2\t[3, 4, 5, 102, 101, 100]\n",
        "\n",
        "# 풀이\n",
        "def solution(arr, k):\n",
        "    if k % 2 == 1:\n",
        "        return [k*i for i in arr]\n",
        "    else:\n",
        "        return [k+i for i in arr]"
      ],
      "metadata": {
        "id": "2DsMXoYF7Esc"
      },
      "execution_count": null,
      "outputs": []
    },
    {
      "cell_type": "markdown",
      "source": [
        "### n 번째 원소부터\n"
      ],
      "metadata": {
        "id": "7_uE6tCj7gD8"
      }
    },
    {
      "cell_type": "code",
      "source": [
        "# 정수 리스트 num_list와 정수 n이 주어질 때,\n",
        "# n 번째 원소부터 마지막 원소까지의 모든 원소를 담은 리스트를\n",
        "# return하도록 solution 함수를 완성해주세요.\n",
        "\n",
        "# 입출력 예\n",
        "# num_list\tn\tresult\n",
        "# [2, 1, 6]\t3\t[6]\n",
        "# [5, 2, 1, 7, 5]\t2\t[2, 1, 7, 5]\n",
        "\n",
        "# 풀이\n",
        "def solution(num_list, n):\n",
        "    \n",
        "    return num_list[n-1:]"
      ],
      "metadata": {
        "id": "UUboqCji7g-j"
      },
      "execution_count": null,
      "outputs": []
    },
    {
      "cell_type": "markdown",
      "source": [
        "### 첫 번째로 나오는 음수"
      ],
      "metadata": {
        "id": "f_WYG7in-L_-"
      }
    },
    {
      "cell_type": "code",
      "source": [
        "# 정수 리스트 num_list가 주어질 때,\n",
        "# 첫 번째로 나오는 음수의 인덱스를 return하도록 solution 함수를 완성해주세요.\n",
        "# 음수가 없다면 -1을 return합니다.\n",
        "\n",
        "# 입출력 예\n",
        "# num_list\tresult\n",
        "# [12, 4, 15, 46, 38, -2, 15]\t5\n",
        "# [13, 22, 53, 24, 15, 6]\t-1\n",
        "\n",
        "# 내 풀이\n",
        "def solution(num_list):\n",
        "    answer = []\n",
        "    for i in range(len(num_list)):\n",
        "        if int(num_list[i]) < 0:\n",
        "            answer.append(num_list.index(num_list[i]))\n",
        "    \n",
        "    if len(answer) >= 1:\n",
        "        return answer[0]\n",
        "    else:\n",
        "        return -1\n",
        "\n",
        "# 다른 사람 풀이\n",
        "def solution(num_list):\n",
        "    for i in range(len(num_list)):\n",
        "        if num_list[i]<0:return i\n",
        "    return -1\n"
      ],
      "metadata": {
        "id": "hnoknast-Mek"
      },
      "execution_count": null,
      "outputs": []
    },
    {
      "cell_type": "markdown",
      "source": [
        "### 주사위 게임 1"
      ],
      "metadata": {
        "id": "TZ3JUSRP_jiI"
      }
    },
    {
      "cell_type": "code",
      "source": [
        "# 1부터 6까지 숫자가 적힌 주사위가 두 개 있습니다.\n",
        "# 두 주사위를 굴렸을 때 나온 \b숫자를 각각 a, b라고 했을 때 얻는 점수는 다음과 같습니다.\n",
        "\n",
        "# a와 b가 모두 홀수라면 a2 + b2 점을 얻습니다.\n",
        "# a와 b 중 하나만 홀수라면 2 × (a + b) 점을 얻습니다.\n",
        "# a와 b 모두 홀수가 아니라면 |a - b| 점을 얻습니다.\n",
        "# 두 정수 a와 b가 매개변수로 주어질 때, 얻는 점수를 return 하는 solution 함수를 작성해 주세요.\n",
        "\n",
        "# 입출력 예\n",
        "# a\tb\tresult\n",
        "# 3\t5\t34\n",
        "# 6\t1\t14\n",
        "# 2\t4\t2\n",
        "\n",
        "# 내 풀이\n",
        "def solution(a, b):\n",
        "    if a % 2 != 0 and b % 2 != 0:\n",
        "        return (a ** 2) + (b ** 2)\n",
        "    elif a % 2 != 0 or b % 2 != 0:\n",
        "        return 2 * (a + b)\n",
        "    else:\n",
        "        return abs(a - b)"
      ],
      "metadata": {
        "id": "t75FVwaL_keX"
      },
      "execution_count": null,
      "outputs": []
    },
    {
      "cell_type": "markdown",
      "source": [
        "### 문자열 정수의 합"
      ],
      "metadata": {
        "id": "gW0Kz885q-vk"
      }
    },
    {
      "cell_type": "code",
      "source": [
        "# 한 자리 정수로 이루어진 문자열 num_str이 주어질 때, 각 자리수의 합을 return하도록 solution 함수를 완성해주세요.\n",
        "\n",
        "# 입출력 예\n",
        "# num_str\tresult\n",
        "# \"123456789\"\t45\n",
        "# \"1000000\"\t1\n",
        "\n",
        "# 내 풀이\n",
        "\n",
        "def solution(num_str):\n",
        "    str = 0\n",
        "    for i in range(len(num_str)):\n",
        "        str += int(num_str[i])\n",
        "        \n",
        "    return str\n",
        "        "
      ],
      "metadata": {
        "id": "8CbZ_3HRrBOX"
      },
      "execution_count": null,
      "outputs": []
    },
    {
      "cell_type": "markdown",
      "source": [
        "### 부분 문자열"
      ],
      "metadata": {
        "id": "RG9fs6BErMOu"
      }
    },
    {
      "cell_type": "code",
      "source": [
        "# 어떤 문자열 A가 다른 문자열 B안에 속하면 A를 B의 부분 문자열이라고 합니다. 예를 들어 문자열 \"abc\"는 문자열 \"aabcc\"의 부분 문자열입니다.\n",
        "\n",
        "# 문자열 str1과 str2가 주어질 때, str1이 str2의 부분 문자열이라면 1을 부분 문자열이 아니라면 0을 return하도록 solution 함수를 완성해주세요.\n",
        "\n",
        "# 입출력 예\n",
        "# str1\tstr2\tresult\n",
        "# \"abc\"\t\"aabcc\"\t1\n",
        "# \"tbt\"\t\"tbbttb\"\t0\n",
        "\n",
        "# 내 풀이\n",
        "def solution(str1, str2):\n",
        "    count = 0\n",
        "    if str1 in str2:\n",
        "        count += 1\n",
        "        \n",
        "    return count"
      ],
      "metadata": {
        "id": "13IegN9brN77"
      },
      "execution_count": null,
      "outputs": []
    },
    {
      "cell_type": "markdown",
      "source": [
        "### 배열에서 문자열 대소문자 변환하기"
      ],
      "metadata": {
        "id": "TMtJJ3ZzsZZd"
      }
    },
    {
      "cell_type": "code",
      "source": [
        "# 문자열 배열 strArr가 주어집니다.\n",
        "# 모든 원소가 알파벳으로만 이루어져 있을 때, 배열에서 홀수번째 인덱스의 문자열은 모든 문자를 대문자로,\n",
        "# 짝수번째 인덱스의 문자열은 모든 문자를 소문자로 바꿔서 반환하는 solution 함수를 완성해 주세요\n",
        "\n",
        "# 입출력 예\n",
        "# strArr\tresult\n",
        "# [\"AAA\",\"BBB\",\"CCC\",\"DDD\"]\t[\"aaa\",\"BBB\",\"ccc\",\"DDD\"]\n",
        "# [\"aBc\",\"AbC\"]\t[\"abc\",\"ABC\"]"
      ],
      "metadata": {
        "id": "0AVmFVkHsaVU"
      },
      "execution_count": null,
      "outputs": []
    },
    {
      "cell_type": "code",
      "source": [],
      "metadata": {
        "id": "T8aHsoBiKvN3"
      },
      "execution_count": null,
      "outputs": []
    },
    {
      "cell_type": "markdown",
      "source": [
        "### rny_string"
      ],
      "metadata": {
        "id": "7vLXU2M6vAAT"
      }
    },
    {
      "cell_type": "code",
      "source": [
        "# 'm'과 \"rn\"이 모양이 비슷하게 생긴 점을 활용해 문자열에 장난을 하려고 합니다.\n",
        "#  문자열 rny_string이 주어질 때, rny_string의 모든 'm'을 \"rn\"으로 바꾼 문자열을 return 하는 solution 함수를 작성해 주세요.\n",
        "\n",
        "# 입출력 예\n",
        "# rny_string\tresult\n",
        "# \"masterpiece\"\t\"rnasterpiece\"\n",
        "# \"programmers\"\t\"prograrnrners\"\n",
        "# \"jerry\"\t\"jerry\"\n",
        "# \"burn\"\t\"burn\"\n",
        "\n",
        "# 내 풀이\n",
        "def solution(rny_string):\n",
        "    \n",
        "    return rny_string.replace('m','rn')"
      ],
      "metadata": {
        "id": "sDT1tpmNvBRm"
      },
      "execution_count": null,
      "outputs": []
    },
    {
      "cell_type": "markdown",
      "source": [
        "### n보다 커질 때까지 더하기"
      ],
      "metadata": {
        "id": "cR7OKMhlyz5G"
      }
    },
    {
      "cell_type": "code",
      "source": [
        "# 정수 배열 numbers와 정수 n이 매개변수로 주어집니다. \n",
        "# numbers의 원소를 앞에서부터 하나씩 더하다가 그 합이 n보다 커지는 순간 이때까지 더했던 원소들의 합을 return 하는 solution 함수를 작성해 주세요.\n",
        "\n",
        "# 입출력 예\n",
        "# numbers\tn\tresult\n",
        "# [34, 5, 71, 29, 100, 34]\t123\t139\n",
        "# [58, 44, 27, 10, 100]\t139\t239\n",
        "\n",
        "# 내 풀이\n",
        "def solution(numbers, n):\n",
        "    answer = 0\n",
        "    for i in range(len(numbers)):\n",
        "        answer += numbers[i]\n",
        "        if answer > n:\n",
        "            return answer\n",
        "    return answer\n",
        "\n"
      ],
      "metadata": {
        "id": "2kx_pFBxy0fM"
      },
      "execution_count": null,
      "outputs": []
    },
    {
      "cell_type": "markdown",
      "source": [
        "### 카운트 다운"
      ],
      "metadata": {
        "id": "uxyS0-ENzE1f"
      }
    },
    {
      "cell_type": "code",
      "source": [
        "# 정수 start와 end가 주어질 때, start에서 end까지 1씩 감소하는 수들을 차례로 담은 리스트를 return하도록 solution 함수를 완성해주세요.\n",
        "\n",
        "# 입출력 예\n",
        "# start\tend\tresult\n",
        "# 10\t3\t[10, 9, 8, 7, 6, 5, 4, 3]\n",
        "\n",
        "\n",
        "# 내 풀이\n",
        "def solution(start, end):\n",
        "    answer = []\n",
        "    while start >= end:\n",
        "        answer.append(start)\n",
        "        start -= 1\n",
        "    return answer\n",
        "\n",
        "# 다른사람의 풀이\n",
        "def solution(start, end):\n",
        "    return [i for i in range(start,end-1,-1)]"
      ],
      "metadata": {
        "id": "hsrEoAikzF80"
      },
      "execution_count": null,
      "outputs": []
    },
    {
      "cell_type": "markdown",
      "source": [
        "### 뒤에서 5등까지"
      ],
      "metadata": {
        "id": "ygiRPrgB1TW5"
      }
    },
    {
      "cell_type": "code",
      "source": [
        "# 정수로 이루어진 리스트 num_list가 주어집니다. num_list에서 가장 작은 5개의 수를 오름차순으로 담은 리스트를 return하도록 solution 함수를 완성해주세요.\n",
        "\n",
        "# 입출력 예\n",
        "# num_list\tresult\n",
        "# [12, 4, 15, 46, 38, 1, 14]\t[1, 4, 12, 14, 15]\n",
        "\n",
        "# 내 풀이\n",
        "def solution(num_list):\n",
        "    \n",
        "    return sorted(num_list)[:5]"
      ],
      "metadata": {
        "id": "d2PdFPy71U6t"
      },
      "execution_count": null,
      "outputs": []
    },
    {
      "cell_type": "markdown",
      "source": [
        "### 특정한 문자를 대문자로 바꾸기"
      ],
      "metadata": {
        "id": "2SXmulEE2iTw"
      }
    },
    {
      "cell_type": "code",
      "source": [
        "# 영소문자로 이루어진 문자열 my_string과 영소문자 1글자로 이루어진 문자열 alp가 매개변수로 주어질 때,\n",
        "# my_string에서 alp에 해당하는 모든 글자를 대문자로 바꾼 문자열을 return 하는 solution 함수를 작성해 주세요.\n",
        "\n",
        "# 입출력 예\n",
        "# my_string\talp\tresult\n",
        "# \"programmers\"\t\"p\"\t\"Programmers\"\n",
        "# \"lowercase\"\t\"x\"\t\"lowercase\"\n",
        "\n",
        "# 내 풀이\n",
        "def solution(my_string, alp):\n",
        "    change = alp.upper()\n",
        "    return my_string.replace(alp , change)"
      ],
      "metadata": {
        "id": "AvnmFKNq2jVt"
      },
      "execution_count": null,
      "outputs": []
    },
    {
      "cell_type": "markdown",
      "source": [
        "### 원하는 문자열 찾기"
      ],
      "metadata": {
        "id": "G1Yuhfli4rN7"
      }
    },
    {
      "cell_type": "code",
      "source": [
        "# 알파벳으로 이루어진 문자열 myString과 pat이 주어집니다. myString의 연속된 부분 문자열 중 pat이 존재하면 1을 그렇지 않으면 0을 return 하는 solution 함수를 완성해 주세요.\n",
        "\n",
        "# 단, 알파벳 대문자와 소문자는 구분하지 않습니다.\n",
        "\n",
        "# 입출력 예\n",
        "# myString\tpat\treturn\n",
        "# \"AbCdEfG\"\t\"aBc\"\t1\n",
        "# \"aaAA\"\t\"aaaaa\"\t0\n",
        "\n",
        "# 내 풀이\n",
        "def solution(myString, pat):\n",
        "    str1 = pat.lower()\n",
        "    str2 = myString.lower()\n",
        "    if str1 in str2:\n",
        "        return 1\n",
        "    else:\n",
        "        return 0\n",
        "    \n",
        "    "
      ],
      "metadata": {
        "id": "CsfpafNx4r2D"
      },
      "execution_count": null,
      "outputs": []
    },
    {
      "cell_type": "markdown",
      "source": [
        "### 조건에 맞게 수열 변환하기 1"
      ],
      "metadata": {
        "id": "74LIwBBh6YHH"
      }
    },
    {
      "cell_type": "code",
      "source": [
        "# 정수 배열 arr가 주어집니다. arr의 각 원소에 대해 값이 50보다 크거나 같은 짝수라면 2로 나누고, 50보다 작은 홀수라면 2를 곱합니다.\n",
        "# 그 결과인 정수 배열을 return 하는 solution 함수를 완성해 주세요.\n",
        "\n",
        "# 입출력 예\n",
        "# arr\tresult\n",
        "# [1, 2, 3, 100, 99, 98]\t[2, 2, 6, 50, 99, 49]\n",
        "\n",
        "# 내 풀이\n",
        "def solution(arr):\n",
        "    answer = []\n",
        "    for i in range(len(arr)):\n",
        "        if arr[i] >= 50 and arr[i] % 2 == 0:\n",
        "            answer.append(arr[i]/2)\n",
        "        elif arr[i] < 50 and arr[i] % 2 != 0:\n",
        "            answer.append(arr[i]*2)\n",
        "        else:\n",
        "            answer.append(arr[i])\n",
        "    return answer"
      ],
      "metadata": {
        "id": "IJj5ukbR6Yuc"
      },
      "execution_count": null,
      "outputs": []
    },
    {
      "cell_type": "markdown",
      "source": [
        "### n개 간격의 원소들"
      ],
      "metadata": {
        "id": "jtXzSQWZ8X80"
      }
    },
    {
      "cell_type": "code",
      "source": [
        "# 정수 리스트 num_list와 정수 n이 주어질 때, num_list의 첫 번째 원소부터 마지막 원소까지 n개 간격으로 저장되어있는 원소들을 차례로 담은 리스트를 return하도록 solution 함수를 완성해주세요.\n",
        "\n",
        "# 입출력 예\n",
        "# num_list\tn\tresult\n",
        "# [4, 2, 6, 1, 7, 6]\t2\t[4, 6, 7]\n",
        "# [4, 2, 6, 1, 7, 6]\t4\t[4, 7]\n",
        "\n",
        "# 내 풀이\n",
        "\n",
        "def solution(num_list, n):\n",
        "    return num_list[0 : len(num_list) :n]\n",
        "  \n",
        "# 다른 사람 풀이\n",
        "\n",
        "def solution(num_list, n):\n",
        "    return num_list[::n]\n"
      ],
      "metadata": {
        "id": "lk5sffMx8YOx"
      },
      "execution_count": null,
      "outputs": []
    },
    {
      "cell_type": "markdown",
      "source": [
        "### 글자 이어 붙여 문자열 만들기"
      ],
      "metadata": {
        "id": "7F72lcGU-5FU"
      }
    },
    {
      "cell_type": "code",
      "source": [
        "# 문자열 my_string과 정수 배열 index_list가 매개변수로 주어집니다. my_string의 index_list의 원소들에 해당하는 인덱스의 글자들을 순서대로 이어 붙인 문자열을 return 하는 solution 함수를 작성해 주세요\n",
        "\n",
        "# 입출력 예\n",
        "# my_string\tindex_list\tresult\n",
        "# \"cvsgiorszzzmrpaqpe\"\t[16, 6, 5, 3, 12, 14, 11, 11, 17, 12, 7]\t\"programmers\"\n",
        "# \"zpiaz\"\t[1, 2, 0, 0, 3]\t\"pizza\"\n",
        "\n",
        "# 내 풀이\n",
        "def solution(my_string, index_list):\n",
        "    answer = []\n",
        "    for i in range(len(index_list)):\n",
        "        answer.append(my_string[index_list[i]])\n",
        "        \n",
        "    return \"\".join(answer)\n",
        "\n",
        "# 다른 사람 풀이\n",
        "\n",
        "def solution(my_string, index_list):\n",
        "    return ''.join(map(lambda x: my_string[x], index_list))"
      ],
      "metadata": {
        "id": "0WJB-Nv4-6gH"
      },
      "execution_count": null,
      "outputs": []
    },
    {
      "cell_type": "markdown",
      "source": [
        "### 배열의 원소만큼 추가하기"
      ],
      "metadata": {
        "id": "HGPpy-eg__uw"
      }
    },
    {
      "cell_type": "code",
      "source": [
        "# 아무 원소도 들어있지 않은 빈 배열 X가 있습니다. 양의 정수 배열 arr가 매개변수로 주어질 때, \n",
        "# arr의 앞에서부터 차례대로 원소를 보면서 원소가 a라면 X의 맨 뒤에 a를 a번 추가하는 일을 반복한 뒤의 배열 X를 return 하는 solution 함수를 작성해 주세요.\n",
        "\n",
        "# 입출력 예\n",
        "# arr\tresult\n",
        "# [5, 1, 4]\t[5, 5, 5, 5, 5, 1, 4, 4, 4, 4]\n",
        "# [6, 6]\t[6, 6, 6, 6, 6, 6, 6, 6, 6, 6, 6, 6]\n",
        "# [1]\t[1]\n",
        "\n",
        "# 내 풀이\n",
        "def solution(arr):\n",
        "    answer = []\n",
        "    for i in range(len(arr)):\n",
        "        for j in range(int(arr[i])):\n",
        "            answer.append(arr[i])\n",
        "    return answer\n",
        "\n",
        "# 다른 사람 풀이\n",
        "\n",
        "def solution(arr):\n",
        "    answer = []\n",
        "    for num in arr:\n",
        "        answer += [num] * num\n",
        "    return answer\n",
        "\n",
        "\n",
        "def solution(arr):\n",
        "    return [i for i in arr for j in range(i)]"
      ],
      "metadata": {
        "id": "52o64TSvAAkA"
      },
      "execution_count": null,
      "outputs": []
    },
    {
      "cell_type": "markdown",
      "source": [
        "### 접두사인지 확인하기"
      ],
      "metadata": {
        "id": "qEL1VWCMCGAA"
      }
    },
    {
      "cell_type": "code",
      "source": [
        "# 어떤 문자열에 대해서 접두사는 특정 인덱스까지의 문자열을 의미합니다. 예를 들어, \"banana\"의 모든 접두사는 \"b\", \"ba\", \"ban\", \"bana\", \"banan\", \"banana\"입니다.\n",
        "# 문자열 my_string과 is_prefix가 주어질 때, is_prefix가 my_string의 접두사라면 1을, 아니면 0을 return 하는 solution 함수를 작성해 주세요.\n",
        "\n",
        "# 입출력 예\n",
        "# my_string\tis_prefix\tresult\n",
        "# \"banana\"\t\"ban\"\t1\n",
        "# \"banana\"\t\"nan\"\t0\n",
        "# \"banana\"\t\"abcd\"\t0\n",
        "# \"banana\"\t\"bananan\"\t0\n",
        "\n",
        "# 내 풀이\n",
        "def solution(my_string, is_prefix):\n",
        "    if is_prefix in my_string[:len(is_prefix)]:\n",
        "        return 1\n",
        "    else:\n",
        "        return 0\n",
        "\n",
        "# 다른 사람 풀이\n",
        "def solution(my_string, is_prefix):\n",
        "    return int(my_string.startswith(is_prefix))"
      ],
      "metadata": {
        "id": "oX4JpEHfCIqK"
      },
      "execution_count": null,
      "outputs": []
    },
    {
      "cell_type": "markdown",
      "source": [
        "### 문자열 바꿔서 찾기"
      ],
      "metadata": {
        "id": "9_1XLoqFDq3w"
      }
    },
    {
      "cell_type": "code",
      "source": [
        "# 문자 \"A\"와 \"B\"로 이루어진 문자열 myString과 pat가 주어집니다. myString의 \"A\"를 \"B\"로,\n",
        "# \"B\"를 \"A\"로 바꾼 문자열의 연속하는 부분 문자열 중 pat이 있으면 1을 아니면 0을 return 하는 solution 함수를 완성하세요.\n",
        "\n",
        "# 입출력 예\n",
        "# myString\tpat\tresult\n",
        "# \"ABBAA\"\t\"AABB\"\t1\n",
        "# \"ABAB\"\t\"ABAB\"\t0\n",
        "\n",
        "# 내 풀이\n",
        "def solution(myString, pat):\n",
        "    answer = []\n",
        "    for i in range(len(myString)):\n",
        "        if myString[i] == 'A':\n",
        "            answer.append(myString[i].replace('A','B'))\n",
        "        else:\n",
        "            answer.append(myString[i].replace('B','A'))\n",
        "    if pat in ''.join(answer):\n",
        "        return 1\n",
        "    else:\n",
        "        return 0\n",
        "\n",
        "# 다른 사람 풀이\n",
        "def solution(myString, pat):\n",
        "    return int(pat in myString.replace('A', 'C').replace('B', 'A').replace('C', 'B'))"
      ],
      "metadata": {
        "id": "KAcjlzpxDrV3"
      },
      "execution_count": null,
      "outputs": []
    },
    {
      "cell_type": "markdown",
      "source": [
        "### 홀수 vs 짝수"
      ],
      "metadata": {
        "id": "nQeavR0ItGlc"
      }
    },
    {
      "cell_type": "code",
      "source": [
        "# 정수 리스트 num_list가 주어집니다. \n",
        "# 가장 첫 번째 원소를 1번 원소라고 할 때, 홀수 번째 원소들의 합과 짝수 번째 원소들의 합 중 큰 값을 return 하도록 solution 함수를 완성해주세요. 두 값이 같을 경우 그 값을 return합니다.\n",
        "\n",
        "# 입출력 예\n",
        "# num_list\tresult\n",
        "# [4, 2, 6, 1, 7, 6]\t17\n",
        "# [-1, 2, 5, 6, 3]\t8\n",
        "\n",
        "# 내 풀이\n",
        "def solution(num_list):\n",
        "    jjak = []\n",
        "    hol = []\n",
        "    answer = []\n",
        "    for  i in range(len(num_list)):\n",
        "        if i+1 % 2 == 0:\n",
        "            jjak += num_list[i]\n",
        "        else:\n",
        "            hol += num_list[i]\n",
        "            \n",
        "    return answer"
      ],
      "metadata": {
        "id": "pBVFKH4YtHQA"
      },
      "execution_count": null,
      "outputs": []
    }
  ]
}