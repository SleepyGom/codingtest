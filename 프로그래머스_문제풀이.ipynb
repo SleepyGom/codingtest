{
  "nbformat": 4,
  "nbformat_minor": 0,
  "metadata": {
    "colab": {
      "provenance": []
    },
    "kernelspec": {
      "name": "python3",
      "display_name": "Python 3"
    },
    "language_info": {
      "name": "python"
    }
  },
  "cells": [
    {
      "cell_type": "code",
      "source": [
        "!jupyter nbconvert --to markdown 프로그래머스_문제풀이.ipynb"
      ],
      "metadata": {
        "colab": {
          "base_uri": "https://localhost:8080/"
        },
        "id": "nT7OTNvyBXVW",
        "outputId": "f4407970-15fb-48b1-8fbf-7526a8e0cab4"
      },
      "execution_count": null,
      "outputs": [
        {
          "output_type": "stream",
          "name": "stdout",
          "text": [
            "[NbConvertApp] Converting notebook 프로그래머스_문제풀이.ipynb to markdown\n",
            "[NbConvertApp] Writing 11048 bytes to 프로그래머스_문제풀이.md\n"
          ]
        }
      ]
    },
    {
      "cell_type": "markdown",
      "source": [
        "## LV 0"
      ],
      "metadata": {
        "id": "LxxPbhYSxaP4"
      }
    },
    {
      "cell_type": "markdown",
      "source": [
        "### 대문자 만들기"
      ],
      "metadata": {
        "id": "ILhZrLoJx0qQ"
      }
    },
    {
      "cell_type": "code",
      "source": [
        "# 알파벳으로 이루어진 문자열 myString이 주어집니다. \n",
        "# 모든 알파벳을 대문자로 변환하여 return 하는 solution 함수를 완성해 주세요.\n",
        "\n",
        "# 입출력 예\n",
        "# myString\tresult\n",
        "# \"aBcDeFg\"\t\"ABCDEFG\"\n",
        "# \"AAA\"\t\"AAA\"\n",
        "\n",
        "# 풀이\n",
        "def solution(myString):\n",
        "    \n",
        "    return myString.upper()"
      ],
      "metadata": {
        "id": "6TJ34Ch-xhfi"
      },
      "execution_count": null,
      "outputs": []
    },
    {
      "cell_type": "markdown",
      "source": [
        "### 정수찾기"
      ],
      "metadata": {
        "id": "-CtgEjhkxyNx"
      }
    },
    {
      "cell_type": "code",
      "source": [
        "# 정수 리스트 num_list와 찾으려는 정수 n이 주어질 때, \n",
        "# num_list안에 n이 있으면 1을 없으면 0을 return하도록 solution 함수를 완성해주세요.\n",
        "\n",
        "# 입출력 예\n",
        "# num_list\tn\tresult\n",
        "# [1, 2, 3, 4, 5]\t3\t1\n",
        "# [15, 98, 23, 2, 15]\t20\t0\n",
        "\n",
        "# 풀이\n",
        "def solution(num_list, n):\n",
        "    if n in num_list:\n",
        "        return 1\n",
        "    else:\n",
        "        return 0"
      ],
      "metadata": {
        "id": "7drI02k8x7nv"
      },
      "execution_count": null,
      "outputs": []
    },
    {
      "cell_type": "markdown",
      "source": [
        "### 문자열을 정수로 변환하기"
      ],
      "metadata": {
        "id": "tJZopMzwx-VK"
      }
    },
    {
      "cell_type": "code",
      "source": [
        "# 숫자로만 이루어진 문자열 n_str이 주어질 때, \n",
        "# n_str을 정수로 변환하여 return하도록 solution 함수를 완성해주세요.\n",
        "\n",
        "# 입출력 예\n",
        "# n_str\tresult\n",
        "# \"10\"\t10\n",
        "# \"8542\"\t8542\n",
        "\n",
        "# 풀이\n",
        "def solution(n_str):\n",
        "    \n",
        "    return int(n_str)"
      ],
      "metadata": {
        "id": "SGuXBc4Fye7w"
      },
      "execution_count": null,
      "outputs": []
    },
    {
      "cell_type": "markdown",
      "source": [
        "### 부분 문자열인지 확인하기"
      ],
      "metadata": {
        "id": "aS-37nbXy0jh"
      }
    },
    {
      "cell_type": "code",
      "source": [
        "# 부분 문자열이란 문자열에서 연속된 일부분에 해당하는 문자열을 의미합니다.\n",
        "# 예를 들어, 문자열 \"ana\", \"ban\", \"anana\", \"banana\", \"n\"는\n",
        "# 모두 문자열 \"banana\"의 부분 문자열이지만,\n",
        "# \"aaa\", \"bnana\", \"wxyz\"는 모두 \"banana\"의 부분 문자열이 아닙니다.\n",
        "\n",
        "# 문자열 my_string과 target이 매개변수로 주어질 때,\n",
        "# target이 문자열 my_string의 부분 문자열이라면 1을,\n",
        "# 아니라면 0을 return 하는 solution 함수를 작성해 주세요.\n",
        "\n",
        "# 입출력 예\n",
        "# my_string\ttarget\tresult\n",
        "# \"banana\"\t\"ana\"\t1\n",
        "# \"banana\"\t\"wxyz\"\t0\n",
        "\n",
        "# 풀이\n",
        "def solution(my_string, target):\n",
        "    if target in my_string:\n",
        "        return 1\n",
        "    else:\n",
        "        return 0\n",
        "    "
      ],
      "metadata": {
        "id": "UgM1yHN6y1Wc"
      },
      "execution_count": null,
      "outputs": []
    },
    {
      "cell_type": "markdown",
      "source": [
        "### n 번째 원소까지"
      ],
      "metadata": {
        "id": "Zlu2Iqlz386b"
      }
    },
    {
      "cell_type": "code",
      "source": [
        "# 정수 리스트 num_list와 정수 n이 주어질 때, \n",
        "# num_list의 첫 번째 원소부터 n 번째 원소까지의 모든 원소를 담은 리스트를 return하도록 solution 함수를 완성해주세요.\n",
        "\n",
        "# 입출력 예\n",
        "# num_list\tn\tresult\n",
        "# [2, 1, 6]\t1\t[2]\n",
        "# [5, 2, 1, 7, 5]\t3\t[5, 2, 1]\n",
        "\n",
        "# 풀이\n",
        "def solution(num_list, n):\n",
        "    \n",
        "    return num_list[:n]"
      ],
      "metadata": {
        "id": "8cjigxpo399B"
      },
      "execution_count": null,
      "outputs": []
    },
    {
      "cell_type": "markdown",
      "source": [
        "### 문자열의 뒤의 n글자"
      ],
      "metadata": {
        "id": "HPJHOtIE4zCA"
      }
    },
    {
      "cell_type": "code",
      "source": [
        "# 문자열 my_string과 정수 n이 매개변수로 주어질 때,\n",
        "# my_string의 뒤의 n글자로 이루어진 문자열을 return 하는 solution 함수를 작성해 주세요.\n",
        "\n",
        "# 입출력 예\n",
        "# my_string\tn\tresult\n",
        "# \"ProgrammerS123\"\t11\t\"grammerS123\"\n",
        "# \"He110W0r1d\"\t5\t\"W0r1d\"\n",
        "\n",
        "# 풀이\n",
        "def solution(my_string, n):\n",
        "    \n",
        "    return my_string[-n:]"
      ],
      "metadata": {
        "id": "XqfC_1vV4z3a"
      },
      "execution_count": null,
      "outputs": []
    },
    {
      "cell_type": "markdown",
      "source": [
        "### 공백으로 구분하기 1"
      ],
      "metadata": {
        "id": "tS-GvCdq5iRv"
      }
    },
    {
      "cell_type": "code",
      "source": [
        "# 단어가 공백 한 개로 구분되어 있는 문자열 my_string이 매개변수로 주어질 때,\n",
        "# my_string에 나온 단어를 앞에서부터 순서대로 담은 문자열 배열을\n",
        "# return 하는 solution 함수를 작성해 주세요.\n",
        "\n",
        "# 입출력 예\n",
        "# my_string\tresult\n",
        "# \"i love you\"\t[\"i\", \"love\", \"you\"]\n",
        "# \"programmers\"\t[\"programmers\"]\n",
        "\n",
        "# 풀이\n",
        "def solution(my_string):\n",
        "    \n",
        "    return my_string.split(' ')"
      ],
      "metadata": {
        "id": "o6194Ynp5i51"
      },
      "execution_count": null,
      "outputs": []
    },
    {
      "cell_type": "markdown",
      "source": [
        "### 조건에 맞게 수열 변환하기 3"
      ],
      "metadata": {
        "id": "1opNGudj7EED"
      }
    },
    {
      "cell_type": "code",
      "source": [
        "# 정수 배열 arr와 자연수 k가 주어집니다.\n",
        "# 만약 k가 홀수라면 arr의 모든 원소에 k를 곱하고, k가 짝수라면 arr의 모든 원소에 k를 더합니다.\n",
        "# 이러한 변환을 마친 후의 arr를 return 하는 solution 함수를 완성해 주세요.\n",
        "\n",
        "\n",
        "# 입출력 예\n",
        "# arr\tk\tresult\n",
        "# [1, 2, 3, 100, 99, 98]\t3\t[3, 6, 9, 300, 297, 294]\n",
        "# [1, 2, 3, 100, 99, 98]\t2\t[3, 4, 5, 102, 101, 100]\n",
        "\n",
        "# 풀이\n",
        "def solution(arr, k):\n",
        "    if k % 2 == 1:\n",
        "        return [k*i for i in arr]\n",
        "    else:\n",
        "        return [k+i for i in arr]"
      ],
      "metadata": {
        "id": "2DsMXoYF7Esc"
      },
      "execution_count": null,
      "outputs": []
    },
    {
      "cell_type": "markdown",
      "source": [
        "### n 번째 원소부터\n"
      ],
      "metadata": {
        "id": "7_uE6tCj7gD8"
      }
    },
    {
      "cell_type": "code",
      "source": [
        "# 정수 리스트 num_list와 정수 n이 주어질 때,\n",
        "# n 번째 원소부터 마지막 원소까지의 모든 원소를 담은 리스트를\n",
        "# return하도록 solution 함수를 완성해주세요.\n",
        "\n",
        "# 입출력 예\n",
        "# num_list\tn\tresult\n",
        "# [2, 1, 6]\t3\t[6]\n",
        "# [5, 2, 1, 7, 5]\t2\t[2, 1, 7, 5]\n",
        "\n",
        "# 풀이\n",
        "def solution(num_list, n):\n",
        "    \n",
        "    return num_list[n-1:]"
      ],
      "metadata": {
        "id": "UUboqCji7g-j"
      },
      "execution_count": null,
      "outputs": []
    },
    {
      "cell_type": "markdown",
      "source": [
        "### 첫 번째로 나오는 음수"
      ],
      "metadata": {
        "id": "f_WYG7in-L_-"
      }
    },
    {
      "cell_type": "code",
      "source": [
        "# 정수 리스트 num_list가 주어질 때,\n",
        "# 첫 번째로 나오는 음수의 인덱스를 return하도록 solution 함수를 완성해주세요.\n",
        "# 음수가 없다면 -1을 return합니다.\n",
        "\n",
        "# 입출력 예\n",
        "# num_list\tresult\n",
        "# [12, 4, 15, 46, 38, -2, 15]\t5\n",
        "# [13, 22, 53, 24, 15, 6]\t-1\n",
        "\n",
        "# 내 풀이\n",
        "def solution(num_list):\n",
        "    answer = []\n",
        "    for i in range(len(num_list)):\n",
        "        if int(num_list[i]) < 0:\n",
        "            answer.append(num_list.index(num_list[i]))\n",
        "    \n",
        "    if len(answer) >= 1:\n",
        "        return answer[0]\n",
        "    else:\n",
        "        return -1\n",
        "\n",
        "# 다른 사람 풀이\n",
        "def solution(num_list):\n",
        "    for i in range(len(num_list)):\n",
        "        if num_list[i]<0:return i\n",
        "    return -1\n"
      ],
      "metadata": {
        "id": "hnoknast-Mek"
      },
      "execution_count": null,
      "outputs": []
    },
    {
      "cell_type": "markdown",
      "source": [
        "### 주사위 게임 1"
      ],
      "metadata": {
        "id": "TZ3JUSRP_jiI"
      }
    },
    {
      "cell_type": "code",
      "source": [
        "# 1부터 6까지 숫자가 적힌 주사위가 두 개 있습니다.\n",
        "# 두 주사위를 굴렸을 때 나온 \b숫자를 각각 a, b라고 했을 때 얻는 점수는 다음과 같습니다.\n",
        "\n",
        "# a와 b가 모두 홀수라면 a2 + b2 점을 얻습니다.\n",
        "# a와 b 중 하나만 홀수라면 2 × (a + b) 점을 얻습니다.\n",
        "# a와 b 모두 홀수가 아니라면 |a - b| 점을 얻습니다.\n",
        "# 두 정수 a와 b가 매개변수로 주어질 때, 얻는 점수를 return 하는 solution 함수를 작성해 주세요.\n",
        "\n",
        "# 입출력 예\n",
        "# a\tb\tresult\n",
        "# 3\t5\t34\n",
        "# 6\t1\t14\n",
        "# 2\t4\t2\n",
        "\n",
        "# 내 풀이\n",
        "def solution(a, b):\n",
        "    if a % 2 != 0 and b % 2 != 0:\n",
        "        return (a ** 2) + (b ** 2)\n",
        "    elif a % 2 != 0 or b % 2 != 0:\n",
        "        return 2 * (a + b)\n",
        "    else:\n",
        "        return abs(a - b)"
      ],
      "metadata": {
        "id": "t75FVwaL_keX"
      },
      "execution_count": null,
      "outputs": []
    },
    {
      "cell_type": "markdown",
      "source": [
        "### 문자열 정수의 합"
      ],
      "metadata": {
        "id": "gW0Kz885q-vk"
      }
    },
    {
      "cell_type": "code",
      "source": [
        "# 한 자리 정수로 이루어진 문자열 num_str이 주어질 때, 각 자리수의 합을 return하도록 solution 함수를 완성해주세요.\n",
        "\n",
        "# 입출력 예\n",
        "# num_str\tresult\n",
        "# \"123456789\"\t45\n",
        "# \"1000000\"\t1\n",
        "\n",
        "# 내 풀이\n",
        "\n",
        "def solution(num_str):\n",
        "    str = 0\n",
        "    for i in range(len(num_str)):\n",
        "        str += int(num_str[i])\n",
        "        \n",
        "    return str\n",
        "        "
      ],
      "metadata": {
        "id": "8CbZ_3HRrBOX"
      },
      "execution_count": null,
      "outputs": []
    },
    {
      "cell_type": "markdown",
      "source": [
        "### 부분 문자열"
      ],
      "metadata": {
        "id": "RG9fs6BErMOu"
      }
    },
    {
      "cell_type": "code",
      "source": [
        "# 어떤 문자열 A가 다른 문자열 B안에 속하면 A를 B의 부분 문자열이라고 합니다. 예를 들어 문자열 \"abc\"는 문자열 \"aabcc\"의 부분 문자열입니다.\n",
        "\n",
        "# 문자열 str1과 str2가 주어질 때, str1이 str2의 부분 문자열이라면 1을 부분 문자열이 아니라면 0을 return하도록 solution 함수를 완성해주세요.\n",
        "\n",
        "# 입출력 예\n",
        "# str1\tstr2\tresult\n",
        "# \"abc\"\t\"aabcc\"\t1\n",
        "# \"tbt\"\t\"tbbttb\"\t0\n",
        "\n",
        "# 내 풀이\n",
        "def solution(str1, str2):\n",
        "    count = 0\n",
        "    if str1 in str2:\n",
        "        count += 1\n",
        "        \n",
        "    return count"
      ],
      "metadata": {
        "id": "13IegN9brN77"
      },
      "execution_count": null,
      "outputs": []
    },
    {
      "cell_type": "markdown",
      "source": [
        "### 배열에서 문자열 대소문자 변환하기"
      ],
      "metadata": {
        "id": "TMtJJ3ZzsZZd"
      }
    },
    {
      "cell_type": "code",
      "source": [
        "# 문자열 배열 strArr가 주어집니다.\n",
        "# 모든 원소가 알파벳으로만 이루어져 있을 때, 배열에서 홀수번째 인덱스의 문자열은 모든 문자를 대문자로,\n",
        "# 짝수번째 인덱스의 문자열은 모든 문자를 소문자로 바꿔서 반환하는 solution 함수를 완성해 주세요\n",
        "\n",
        "# 입출력 예\n",
        "# strArr\tresult\n",
        "# [\"AAA\",\"BBB\",\"CCC\",\"DDD\"]\t[\"aaa\",\"BBB\",\"ccc\",\"DDD\"]\n",
        "# [\"aBc\",\"AbC\"]\t[\"abc\",\"ABC\"]\n",
        "\n",
        "# 내 풀이\n",
        "def solution(strArr):\n",
        "    answer = [] \n",
        "    for i in range(len(strArr)):\n",
        "        if i % 2 == 0:\n",
        "            answer.append(strArr[i].lower())\n",
        "        else:\n",
        "            answer.append(strArr[i].upper())\n",
        "    return answer\n",
        "\n",
        "# 다른 사람 풀이\n",
        "\n",
        "def solution(strArr):\n",
        "    return [s.lower() if i % 2 == 0 else s.upper() for i, s in enumerate(strArr)]"
      ],
      "metadata": {
        "id": "0AVmFVkHsaVU"
      },
      "execution_count": null,
      "outputs": []
    },
    {
      "cell_type": "markdown",
      "source": [
        "### rny_string"
      ],
      "metadata": {
        "id": "7vLXU2M6vAAT"
      }
    },
    {
      "cell_type": "code",
      "source": [
        "# 'm'과 \"rn\"이 모양이 비슷하게 생긴 점을 활용해 문자열에 장난을 하려고 합니다.\n",
        "#  문자열 rny_string이 주어질 때, rny_string의 모든 'm'을 \"rn\"으로 바꾼 문자열을 return 하는 solution 함수를 작성해 주세요.\n",
        "\n",
        "# 입출력 예\n",
        "# rny_string\tresult\n",
        "# \"masterpiece\"\t\"rnasterpiece\"\n",
        "# \"programmers\"\t\"prograrnrners\"\n",
        "# \"jerry\"\t\"jerry\"\n",
        "# \"burn\"\t\"burn\"\n",
        "\n",
        "# 내 풀이\n",
        "def solution(rny_string):\n",
        "    \n",
        "    return rny_string.replace('m','rn')"
      ],
      "metadata": {
        "id": "sDT1tpmNvBRm"
      },
      "execution_count": null,
      "outputs": []
    },
    {
      "cell_type": "markdown",
      "source": [
        "### n보다 커질 때까지 더하기"
      ],
      "metadata": {
        "id": "cR7OKMhlyz5G"
      }
    },
    {
      "cell_type": "code",
      "source": [
        "# 정수 배열 numbers와 정수 n이 매개변수로 주어집니다. \n",
        "# numbers의 원소를 앞에서부터 하나씩 더하다가 그 합이 n보다 커지는 순간 이때까지 더했던 원소들의 합을 return 하는 solution 함수를 작성해 주세요.\n",
        "\n",
        "# 입출력 예\n",
        "# numbers\tn\tresult\n",
        "# [34, 5, 71, 29, 100, 34]\t123\t139\n",
        "# [58, 44, 27, 10, 100]\t139\t239\n",
        "\n",
        "# 내 풀이\n",
        "def solution(numbers, n):\n",
        "    answer = 0\n",
        "    for i in range(len(numbers)):\n",
        "        answer += numbers[i]\n",
        "        if answer > n:\n",
        "            return answer\n",
        "    return answer\n",
        "\n"
      ],
      "metadata": {
        "id": "2kx_pFBxy0fM"
      },
      "execution_count": null,
      "outputs": []
    },
    {
      "cell_type": "markdown",
      "source": [
        "### 카운트 다운"
      ],
      "metadata": {
        "id": "uxyS0-ENzE1f"
      }
    },
    {
      "cell_type": "code",
      "source": [
        "# 정수 start와 end가 주어질 때, start에서 end까지 1씩 감소하는 수들을 차례로 담은 리스트를 return하도록 solution 함수를 완성해주세요.\n",
        "\n",
        "# 입출력 예\n",
        "# start\tend\tresult\n",
        "# 10\t3\t[10, 9, 8, 7, 6, 5, 4, 3]\n",
        "\n",
        "\n",
        "# 내 풀이\n",
        "def solution(start, end):\n",
        "    answer = []\n",
        "    while start >= end:\n",
        "        answer.append(start)\n",
        "        start -= 1\n",
        "    return answer\n",
        "\n",
        "# 다른사람의 풀이\n",
        "def solution(start, end):\n",
        "    return [i for i in range(start,end-1,-1)]"
      ],
      "metadata": {
        "id": "hsrEoAikzF80"
      },
      "execution_count": null,
      "outputs": []
    },
    {
      "cell_type": "markdown",
      "source": [
        "### 뒤에서 5등까지"
      ],
      "metadata": {
        "id": "ygiRPrgB1TW5"
      }
    },
    {
      "cell_type": "code",
      "source": [
        "# 정수로 이루어진 리스트 num_list가 주어집니다. num_list에서 가장 작은 5개의 수를 오름차순으로 담은 리스트를 return하도록 solution 함수를 완성해주세요.\n",
        "\n",
        "# 입출력 예\n",
        "# num_list\tresult\n",
        "# [12, 4, 15, 46, 38, 1, 14]\t[1, 4, 12, 14, 15]\n",
        "\n",
        "# 내 풀이\n",
        "def solution(num_list):\n",
        "    \n",
        "    return sorted(num_list)[:5]"
      ],
      "metadata": {
        "id": "d2PdFPy71U6t"
      },
      "execution_count": null,
      "outputs": []
    },
    {
      "cell_type": "markdown",
      "source": [
        "### 특정한 문자를 대문자로 바꾸기"
      ],
      "metadata": {
        "id": "2SXmulEE2iTw"
      }
    },
    {
      "cell_type": "code",
      "source": [
        "# 영소문자로 이루어진 문자열 my_string과 영소문자 1글자로 이루어진 문자열 alp가 매개변수로 주어질 때,\n",
        "# my_string에서 alp에 해당하는 모든 글자를 대문자로 바꾼 문자열을 return 하는 solution 함수를 작성해 주세요.\n",
        "\n",
        "# 입출력 예\n",
        "# my_string\talp\tresult\n",
        "# \"programmers\"\t\"p\"\t\"Programmers\"\n",
        "# \"lowercase\"\t\"x\"\t\"lowercase\"\n",
        "\n",
        "# 내 풀이\n",
        "def solution(my_string, alp):\n",
        "    change = alp.upper()\n",
        "    return my_string.replace(alp , change)"
      ],
      "metadata": {
        "id": "AvnmFKNq2jVt"
      },
      "execution_count": null,
      "outputs": []
    },
    {
      "cell_type": "markdown",
      "source": [
        "### 원하는 문자열 찾기"
      ],
      "metadata": {
        "id": "G1Yuhfli4rN7"
      }
    },
    {
      "cell_type": "code",
      "source": [
        "# 알파벳으로 이루어진 문자열 myString과 pat이 주어집니다. myString의 연속된 부분 문자열 중 pat이 존재하면 1을 그렇지 않으면 0을 return 하는 solution 함수를 완성해 주세요.\n",
        "\n",
        "# 단, 알파벳 대문자와 소문자는 구분하지 않습니다.\n",
        "\n",
        "# 입출력 예\n",
        "# myString\tpat\treturn\n",
        "# \"AbCdEfG\"\t\"aBc\"\t1\n",
        "# \"aaAA\"\t\"aaaaa\"\t0\n",
        "\n",
        "# 내 풀이\n",
        "def solution(myString, pat):\n",
        "    str1 = pat.lower()\n",
        "    str2 = myString.lower()\n",
        "    if str1 in str2:\n",
        "        return 1\n",
        "    else:\n",
        "        return 0\n",
        "    \n",
        "    "
      ],
      "metadata": {
        "id": "CsfpafNx4r2D"
      },
      "execution_count": null,
      "outputs": []
    },
    {
      "cell_type": "markdown",
      "source": [
        "### 조건에 맞게 수열 변환하기 1"
      ],
      "metadata": {
        "id": "74LIwBBh6YHH"
      }
    },
    {
      "cell_type": "code",
      "source": [
        "# 정수 배열 arr가 주어집니다. arr의 각 원소에 대해 값이 50보다 크거나 같은 짝수라면 2로 나누고, 50보다 작은 홀수라면 2를 곱합니다.\n",
        "# 그 결과인 정수 배열을 return 하는 solution 함수를 완성해 주세요.\n",
        "\n",
        "# 입출력 예\n",
        "# arr\tresult\n",
        "# [1, 2, 3, 100, 99, 98]\t[2, 2, 6, 50, 99, 49]\n",
        "\n",
        "# 내 풀이\n",
        "def solution(arr):\n",
        "    answer = []\n",
        "    for i in range(len(arr)):\n",
        "        if arr[i] >= 50 and arr[i] % 2 == 0:\n",
        "            answer.append(arr[i]/2)\n",
        "        elif arr[i] < 50 and arr[i] % 2 != 0:\n",
        "            answer.append(arr[i]*2)\n",
        "        else:\n",
        "            answer.append(arr[i])\n",
        "    return answer"
      ],
      "metadata": {
        "id": "IJj5ukbR6Yuc"
      },
      "execution_count": null,
      "outputs": []
    },
    {
      "cell_type": "markdown",
      "source": [
        "### n개 간격의 원소들"
      ],
      "metadata": {
        "id": "jtXzSQWZ8X80"
      }
    },
    {
      "cell_type": "code",
      "source": [
        "# 정수 리스트 num_list와 정수 n이 주어질 때, num_list의 첫 번째 원소부터 마지막 원소까지 n개 간격으로 저장되어있는 원소들을 차례로 담은 리스트를 return하도록 solution 함수를 완성해주세요.\n",
        "\n",
        "# 입출력 예\n",
        "# num_list\tn\tresult\n",
        "# [4, 2, 6, 1, 7, 6]\t2\t[4, 6, 7]\n",
        "# [4, 2, 6, 1, 7, 6]\t4\t[4, 7]\n",
        "\n",
        "# 내 풀이\n",
        "\n",
        "def solution(num_list, n):\n",
        "    return num_list[0 : len(num_list) :n]\n",
        "  \n",
        "# 다른 사람 풀이\n",
        "\n",
        "def solution(num_list, n):\n",
        "    return num_list[::n]\n"
      ],
      "metadata": {
        "id": "lk5sffMx8YOx"
      },
      "execution_count": null,
      "outputs": []
    },
    {
      "cell_type": "markdown",
      "source": [
        "### 글자 이어 붙여 문자열 만들기"
      ],
      "metadata": {
        "id": "7F72lcGU-5FU"
      }
    },
    {
      "cell_type": "code",
      "source": [
        "# 문자열 my_string과 정수 배열 index_list가 매개변수로 주어집니다. my_string의 index_list의 원소들에 해당하는 인덱스의 글자들을 순서대로 이어 붙인 문자열을 return 하는 solution 함수를 작성해 주세요\n",
        "\n",
        "# 입출력 예\n",
        "# my_string\tindex_list\tresult\n",
        "# \"cvsgiorszzzmrpaqpe\"\t[16, 6, 5, 3, 12, 14, 11, 11, 17, 12, 7]\t\"programmers\"\n",
        "# \"zpiaz\"\t[1, 2, 0, 0, 3]\t\"pizza\"\n",
        "\n",
        "# 내 풀이\n",
        "def solution(my_string, index_list):\n",
        "    answer = []\n",
        "    for i in range(len(index_list)):\n",
        "        answer.append(my_string[index_list[i]])\n",
        "        \n",
        "    return \"\".join(answer)\n",
        "\n",
        "# 다른 사람 풀이\n",
        "\n",
        "def solution(my_string, index_list):\n",
        "    return ''.join(map(lambda x: my_string[x], index_list))"
      ],
      "metadata": {
        "id": "0WJB-Nv4-6gH"
      },
      "execution_count": null,
      "outputs": []
    },
    {
      "cell_type": "markdown",
      "source": [
        "### 배열의 원소만큼 추가하기"
      ],
      "metadata": {
        "id": "HGPpy-eg__uw"
      }
    },
    {
      "cell_type": "code",
      "source": [
        "# 아무 원소도 들어있지 않은 빈 배열 X가 있습니다. 양의 정수 배열 arr가 매개변수로 주어질 때, \n",
        "# arr의 앞에서부터 차례대로 원소를 보면서 원소가 a라면 X의 맨 뒤에 a를 a번 추가하는 일을 반복한 뒤의 배열 X를 return 하는 solution 함수를 작성해 주세요.\n",
        "\n",
        "# 입출력 예\n",
        "# arr\tresult\n",
        "# [5, 1, 4]\t[5, 5, 5, 5, 5, 1, 4, 4, 4, 4]\n",
        "# [6, 6]\t[6, 6, 6, 6, 6, 6, 6, 6, 6, 6, 6, 6]\n",
        "# [1]\t[1]\n",
        "\n",
        "# 내 풀이\n",
        "def solution(arr):\n",
        "    answer = []\n",
        "    for i in range(len(arr)):\n",
        "        for j in range(int(arr[i])):\n",
        "            answer.append(arr[i])\n",
        "    return answer\n",
        "\n",
        "# 다른 사람 풀이\n",
        "\n",
        "def solution(arr):\n",
        "    answer = []\n",
        "    for num in arr:\n",
        "        answer += [num] * num\n",
        "    return answer\n",
        "\n",
        "\n",
        "def solution(arr):\n",
        "    return [i for i in arr for j in range(i)]"
      ],
      "metadata": {
        "id": "52o64TSvAAkA"
      },
      "execution_count": null,
      "outputs": []
    },
    {
      "cell_type": "markdown",
      "source": [
        "### 접두사인지 확인하기"
      ],
      "metadata": {
        "id": "qEL1VWCMCGAA"
      }
    },
    {
      "cell_type": "code",
      "source": [
        "# 어떤 문자열에 대해서 접두사는 특정 인덱스까지의 문자열을 의미합니다. 예를 들어, \"banana\"의 모든 접두사는 \"b\", \"ba\", \"ban\", \"bana\", \"banan\", \"banana\"입니다.\n",
        "# 문자열 my_string과 is_prefix가 주어질 때, is_prefix가 my_string의 접두사라면 1을, 아니면 0을 return 하는 solution 함수를 작성해 주세요.\n",
        "\n",
        "# 입출력 예\n",
        "# my_string\tis_prefix\tresult\n",
        "# \"banana\"\t\"ban\"\t1\n",
        "# \"banana\"\t\"nan\"\t0\n",
        "# \"banana\"\t\"abcd\"\t0\n",
        "# \"banana\"\t\"bananan\"\t0\n",
        "\n",
        "# 내 풀이\n",
        "def solution(my_string, is_prefix):\n",
        "    if is_prefix in my_string[:len(is_prefix)]:\n",
        "        return 1\n",
        "    else:\n",
        "        return 0\n",
        "\n",
        "# 다른 사람 풀이\n",
        "def solution(my_string, is_prefix):\n",
        "    return int(my_string.startswith(is_prefix))"
      ],
      "metadata": {
        "id": "oX4JpEHfCIqK"
      },
      "execution_count": null,
      "outputs": []
    },
    {
      "cell_type": "markdown",
      "source": [
        "### 문자열 바꿔서 찾기"
      ],
      "metadata": {
        "id": "9_1XLoqFDq3w"
      }
    },
    {
      "cell_type": "code",
      "source": [
        "# 문자 \"A\"와 \"B\"로 이루어진 문자열 myString과 pat가 주어집니다. myString의 \"A\"를 \"B\"로,\n",
        "# \"B\"를 \"A\"로 바꾼 문자열의 연속하는 부분 문자열 중 pat이 있으면 1을 아니면 0을 return 하는 solution 함수를 완성하세요.\n",
        "\n",
        "# 입출력 예\n",
        "# myString\tpat\tresult\n",
        "# \"ABBAA\"\t\"AABB\"\t1\n",
        "# \"ABAB\"\t\"ABAB\"\t0\n",
        "\n",
        "# 내 풀이\n",
        "def solution(myString, pat):\n",
        "    answer = []\n",
        "    for i in range(len(myString)):\n",
        "        if myString[i] == 'A':\n",
        "            answer.append(myString[i].replace('A','B'))\n",
        "        else:\n",
        "            answer.append(myString[i].replace('B','A'))\n",
        "    if pat in ''.join(answer):\n",
        "        return 1\n",
        "    else:\n",
        "        return 0\n",
        "\n",
        "# 다른 사람 풀이\n",
        "def solution(myString, pat):\n",
        "    return int(pat in myString.replace('A', 'C').replace('B', 'A').replace('C', 'B'))"
      ],
      "metadata": {
        "id": "KAcjlzpxDrV3"
      },
      "execution_count": null,
      "outputs": []
    },
    {
      "cell_type": "markdown",
      "source": [
        "### 홀수 vs 짝수"
      ],
      "metadata": {
        "id": "nQeavR0ItGlc"
      }
    },
    {
      "cell_type": "code",
      "source": [
        "# 정수 리스트 num_list가 주어집니다. \n",
        "# 가장 첫 번째 원소를 1번 원소라고 할 때, 홀수 번째 원소들의 합과 짝수 번째 원소들의 합 중 큰 값을 return 하도록 solution 함수를 완성해주세요. 두 값이 같을 경우 그 값을 return합니다.\n",
        "\n",
        "# 입출력 예\n",
        "# num_list\tresult\n",
        "# [4, 2, 6, 1, 7, 6]\t17\n",
        "# [-1, 2, 5, 6, 3]\t8\n",
        "\n",
        "# 내 풀이\n",
        "def solution(num_list):\n",
        "    jjak = []\n",
        "    hol = []\n",
        "    answer = []\n",
        "    for  i in range(len(num_list)):\n",
        "        if i+1 % 2 == 0:\n",
        "            jjak += num_list[i]\n",
        "        else:\n",
        "            hol += num_list[i]\n",
        "            \n",
        "    return answer"
      ],
      "metadata": {
        "id": "pBVFKH4YtHQA"
      },
      "execution_count": null,
      "outputs": []
    },
    {
      "cell_type": "markdown",
      "source": [
        "### 배열 만들기 1"
      ],
      "metadata": {
        "id": "p4ajBez4wV8t"
      }
    },
    {
      "cell_type": "code",
      "source": [
        "# 정수 n과 k가 주어졌을 때, 1 이상 n이하의 정수 중에서 k의 배수를 오름차순으로 저장한 배열을 return 하는 solution 함수를 완성해 주세요.\n",
        "\n",
        "# n\tk\tresult\n",
        "# 10\t3\t[3, 6, 9]\n",
        "# 15\t5\t[5, 10, 15]\n",
        "\n",
        "# 내 풀이\n",
        "def solution(n, k):\n",
        "    answer = []\n",
        "    for i in range(n+1):\n",
        "        if i % k == 0:\n",
        "            answer.append(i)\n",
        "    return answer[1:]\n",
        "\n",
        "# 다른 사람 풀이\n",
        "def solution(n, k):\n",
        "    return [i for i in range(k,n+1,k)]"
      ],
      "metadata": {
        "id": "fyPro0PCwW5f"
      },
      "execution_count": null,
      "outputs": []
    },
    {
      "cell_type": "markdown",
      "source": [
        "### A 강조하기"
      ],
      "metadata": {
        "id": "jKm-6IXgxmNI"
      }
    },
    {
      "cell_type": "code",
      "source": [
        "# 문자열 myString이 주어집니다. myString에서 알파벳 \"a\"가 등장하면 전부 \"A\"로 변환하고,\n",
        "# \"A\"가 아닌 모든 대문자 알파벳은 소문자 알파벳으로 변환하여 return 하는 solution 함수를 완성하세요.\n",
        "\n",
        "# 입출력 예\n",
        "# myString\tresult\n",
        "# \"abstract algebra\"\t\"AbstrAct AlgebrA\"\n",
        "# \"PrOgRaMmErS\"\t\"progrAmmers\"\n",
        "\n",
        "# 내 풀이\n",
        "def solution(myString):\n",
        "    str = myString.lower()\n",
        "    answer = []\n",
        "    for i in range(len(str)):\n",
        "        if str[i] == 'a':\n",
        "            answer.append(str[i].upper())\n",
        "        else:\n",
        "            answer.append(str[i])\n",
        "    \n",
        "    return ''.join(answer)\n",
        "\n",
        "# 다른 사람 풀이\n",
        "def solution(myString):\n",
        "    return myString.lower().replace('a', 'A')"
      ],
      "metadata": {
        "id": "YWaXlUU-xmzH"
      },
      "execution_count": null,
      "outputs": []
    },
    {
      "cell_type": "markdown",
      "source": [
        "### 꼬리 문자열"
      ],
      "metadata": {
        "id": "9gCvXm0q5Og3"
      }
    },
    {
      "cell_type": "code",
      "source": [
        "# 문자열들이 담긴 리스트가 주어졌을 때, 모든 문자열들을 순서대로 합친 문자열을 꼬리 문자열이라고 합니다. 꼬리 문자열을 만들 때 특정 문자열을 포함한 문자열은 제외시키려고 합니다. \n",
        "# 예를 들어 문자열 리스트 [\"abc\", \"def\", \"ghi\"]가 있고 문자열 \"ef\"를 포함한 문자열은 제외하고 꼬리 문자열을 만들면 \"abcghi\"가 됩니다.\n",
        "\n",
        "# 문자열 리스트 str_list와 제외하려는 문자열 ex가 주어질 때, str_list에서 ex를 포함한 문자열을 제외하고 만든 꼬리 문자열을 return하도록 solution 함수를 완성해주세요.\n",
        "\n",
        "# 입출력 예\n",
        "# str_list\tex\tresult\n",
        "# [\"abc\", \"def\", \"ghi\"]\t\"ef\"\t\"abcghi\"\n",
        "# [\"abc\", \"bbc\", \"cbc\"]\t\"c\"\t\"\"\n",
        "\n",
        "# 내 풀이\n",
        "def solution(str_list, ex):\n",
        "    answer = []\n",
        "    for i in str_list:\n",
        "        if ex in i:\n",
        "            answer.append('')\n",
        "        else:\n",
        "            answer.append(i)\n",
        "    return ''.join(answer)\n",
        "\n",
        "# 다른 사람 풀이\n",
        "def solution(str_list, ex):\n",
        "    filtered_list = [s for s in str_list if ex not in s]\n",
        "    return \"\".join(filtered_list)"
      ],
      "metadata": {
        "id": "SUJyfTRk5O_o"
      },
      "execution_count": null,
      "outputs": []
    },
    {
      "cell_type": "markdown",
      "source": [
        "### 홀수 vs 짝수"
      ],
      "metadata": {
        "id": "ywIhcjgP6a3a"
      }
    },
    {
      "cell_type": "code",
      "source": [
        "# 정수 리스트 num_list가 주어집니다. \n",
        "# 가장 첫 번째 원소를 1번 원소라고 할 때, 홀수 번째 원소들의 합과 짝수 번째 원소들의 합 중 큰 값을 return 하도록 solution 함수를 완성해주세요. \n",
        "# 두 값이 같을 경우 그 값을 return합니다.\n",
        "\n",
        "# 입출력 예\n",
        "# num_list\tresult\n",
        "# [4, 2, 6, 1, 7, 6]\t17\n",
        "# [-1, 2, 5, 6, 3]\t8\n",
        "\n",
        "# 내 풀이\n",
        "def solution(num_list):\n",
        "    odd = []\n",
        "    even = []\n",
        "    for i in range(len(num_list)):\n",
        "        if i % 2 == 0:\n",
        "            odd.append(num_list[i])\n",
        "        else:\n",
        "            even.append(num_list[i])\n",
        "            \n",
        "    return max([sum(odd),sum(even)])\n",
        "\n",
        "# 다른 사람 풀이\n",
        "def solution(num_list):\n",
        "    return max(sum(num_list[0: len(num_list): 2]), sum(num_list[1: len(num_list): 2]))\n",
        "\n",
        "# 다른 사람 풀이 2 \n",
        "def solution(num_list):\n",
        "    return max(sum(num_list[::2]), sum(num_list[1::2]))\n"
      ],
      "metadata": {
        "id": "LtdS6iqt6bhQ"
      },
      "execution_count": null,
      "outputs": []
    },
    {
      "cell_type": "markdown",
      "source": [
        "### 접미사인지 확인하기"
      ],
      "metadata": {
        "id": "Azw_bvfwoNMW"
      }
    },
    {
      "cell_type": "code",
      "source": [
        "# 어떤 문자열에 대해서 접미사는 특정 인덱스부터 시작하는 문자열을 의미합니다. 예를 들어, \"banana\"의 모든 접미사는 \"banana\", \"anana\", \"nana\", \"ana\", \"na\", \"a\"입니다.\n",
        "# 문자열 my_string과 is_suffix가 주어질 때, is_suffix가 my_string의 접미사라면 1을, 아니면 0을 return 하는 solution 함수를 작성해 주세요.\n",
        "\n",
        "# 입출력 예\n",
        "# my_string\tis_suffix\tresult\n",
        "# \"banana\"\t\"ana\"\t1\n",
        "# \"banana\"\t\"nan\"\t0\n",
        "# \"banana\"\t\"wxyz\"\t0\n",
        "# \"banana\"\t\"abanana\"\t0\n",
        "\n",
        "# 내 풀이\n",
        "def solution(my_string, is_suffix):\n",
        "    answer = []\n",
        "    for i in range(len(my_string)):\n",
        "        if is_suffix == my_string[i:]:\n",
        "            answer.append(1)\n",
        "        else:\n",
        "            answer.append(0)\n",
        "    return sum(answer)\n",
        "\n",
        "# 다른 사람 풀이 1\n",
        "def solution(m, s):\n",
        "    if m[-len(s):]==s: return 1\n",
        "    return 0\n",
        "\n",
        "# 다른 사람 풀이 2\n",
        "def solution(my_string, is_suffix):\n",
        "    return int(my_string.endswith(is_suffix))\n",
        "\n",
        "# 다른 사람 풀이 3\n",
        "def solution(my_string, is_suffix):\n",
        "\n",
        "    return 1 if my_string[::-1][:len(is_suffix)]==is_suffix[::-1] else 0"
      ],
      "metadata": {
        "id": "Ibi2tcTWoQrZ"
      },
      "execution_count": null,
      "outputs": []
    },
    {
      "cell_type": "markdown",
      "source": [
        "### 개미 군단"
      ],
      "metadata": {
        "id": "8_FSX06Ptb2v"
      }
    },
    {
      "cell_type": "code",
      "source": [
        "# 개미 군단이 사냥을 나가려고 합니다. 개미군단은 사냥감의 체력에 딱 맞는 병력을 데리고 나가려고 합니다. 장군개미는 5의 공격력을, 병정개미는 3의 공격력을 일개미는 1의 공격력을 가지고 있습니다. \n",
        "# 예를 들어 체력 23의 여치를 사냥하려고 할 때, 일개미 23마리를 데리고 가도 되지만, 장군개미 네 마리와 병정개미 한 마리를 데리고 간다면 더 적은 병력으로 사냥할 수 있습니다. \n",
        "# 사냥감의 체력 hp가 매개변수로 주어질 때, 사냥감의 체력에 딱 맞게 최소한의 병력을 구성하려면 몇 마리의 개미가 필요한지를 return하도록 solution 함수를 완성해주세요.\n",
        "\n",
        "# 입출력 예\n",
        "# hp\tresult\n",
        "# 23\t5\n",
        "# 24\t6\n",
        "# 999\t201\n",
        "\n",
        "# 내 풀이\n",
        "def solution(hp):\n",
        "    answer = 0\n",
        "    for i in range(4):\n",
        "        if hp // 5 > 0:\n",
        "            answer += hp // 5\n",
        "            hp -= (hp // 5) * 5\n",
        "        elif hp // 3 > 0:\n",
        "            answer += hp // 3\n",
        "            hp -= (hp // 3)* 3\n",
        "        else:\n",
        "            answer += hp // 1\n",
        "            hp -= (hp // 1) * 1\n",
        "    return answer\n",
        "\n",
        "# 다른 사람 풀이\n",
        "def solution(hp):    \n",
        "    return hp // 5 + (hp % 5 // 3) + ((hp % 5) % 3)\n",
        "\n",
        "# 다른 사람 풀이\n",
        "def solution(hp):\n",
        "    answer = 0\n",
        "    for ant in [5, 3, 1]:\n",
        "        d, hp = divmod(hp, ant)\n",
        "        answer += d\n",
        "    return answer\n",
        "    # divmod(num1,num2) # num1을 num2 로 나눈 몫과 나머지를 출력하는 함수"
      ],
      "metadata": {
        "id": "OPZfJmlQtcYv"
      },
      "execution_count": null,
      "outputs": []
    },
    {
      "cell_type": "markdown",
      "source": [
        "### 가위 바위 보"
      ],
      "metadata": {
        "id": "xH2BVfnGwCVt"
      }
    },
    {
      "cell_type": "code",
      "source": [
        "# 가위는 2 바위는 0 보는 5로 표현합니다. \n",
        "# 가위 바위 보를 내는 순서대로 나타낸 문자열 rsp가 매개변수로 주어질 때, \n",
        "# rsp에 저장된 가위 바위 보를 모두 이기는 경우를 순서대로 나타낸 문자열을 return하도록 solution 함수를 완성해보세요.\n",
        "\n",
        "# 입출력 예\n",
        "# rsp\tresult\n",
        "# \"2\"\t\"0\"\n",
        "# \"205\"\t\"052\"\n",
        "\n",
        "# 내 풀이\n",
        "def solution(rsp):\n",
        "    answer = []\n",
        "    li = list(rsp)\n",
        "    for i in li:\n",
        "        if i == '2':\n",
        "            answer.append('0')\n",
        "        elif i == '0':\n",
        "            answer.append('5')\n",
        "        else:\n",
        "            answer.append('2')\n",
        "    return ''.join(answer)\n",
        "\n",
        "# 다른 사람 풀이\n",
        "def solution(rsp):\n",
        "    d = {'0':'5','2':'0','5':'2'}\n",
        "    return ''.join(d[i] for i in rsp)"
      ],
      "metadata": {
        "id": "lrFxb3AuwDtk"
      },
      "execution_count": null,
      "outputs": []
    },
    {
      "cell_type": "markdown",
      "source": [
        "### 최댓값 만들기 (2)"
      ],
      "metadata": {
        "id": "Vjk2B8fKwoN6"
      }
    },
    {
      "cell_type": "code",
      "source": [
        "# 정수 배열 numbers가 매개변수로 주어집니다. numbers의 원소 중 두 개를 곱해 만들 수 있는 최댓값을 return하도록 solution 함수를 완성해주세요.\n",
        "\n",
        "# 입출력 예\n",
        "# numbers\tresult\n",
        "# [1, 2, -3, 4, -5]\t15\n",
        "# [0, -31, 24, 10, 1, 9]\t240\n",
        "# [10, 20, 30, 5, 5, 20, 5]\t600\n",
        "\n",
        "# 내 풀이\n",
        "def solution(numbers):\n",
        "    sor = sorted(numbers)\n",
        "    if sor[0]*sor[1] > sor[len(sor)-1] * sor[len(sor)-2]:\n",
        "        return sor[0] * sor[1]\n",
        "    else:\n",
        "        return sor[len(sor)-1] * sor[len(sor)-2]\n",
        "\n",
        "# 다른 사람 풀이\n",
        "def solution(numbers):\n",
        "    numbers = sorted(numbers)\n",
        "    return max(numbers[0] * numbers[1], numbers[-1]*numbers[-2])\n",
        "# 다른 사람 풀이\n",
        "def solution(numbers):\n",
        "    numbers.sort()\n",
        "    return max(numbers[0] * numbers[1], numbers[-1] * numbers[-2])"
      ],
      "metadata": {
        "id": "lN_cNanMwozc"
      },
      "execution_count": null,
      "outputs": []
    },
    {
      "cell_type": "markdown",
      "source": [
        "### 공백으로 구분하기 2\n"
      ],
      "metadata": {
        "id": "mF_OW9yo1AJS"
      }
    },
    {
      "cell_type": "code",
      "source": [
        "# 단어가 공백 한 개 이상으로 구분되어 있는 문자열 my_string이 매개변수로 주어질 때,\n",
        "#  my_string에 나온 단어를 앞에서부터 순서대로 담은 문자열 배열을 return 하는 solution 함수를 작성해 주세요.\n",
        "\n",
        "# 입출력 예\n",
        "# my_string\tresult\n",
        "# \" i    love  you\"\t[\"i\", \"love\", \"you\"]\n",
        "# \"    programmers  \"\t[\"programmers\"]\n",
        "\n",
        "# 내 풀이\n",
        "def solution(my_string):\n",
        "    \n",
        "    return list(filter(None,my_string.split(' ')))\n",
        "\n",
        "# 다른 사람 풀이\n",
        "solution=lambda x:x.split()\n",
        "\n",
        "# 다른 사람 풀이\n",
        "def solution(my_string):\n",
        "    while '  ' in my_string:\n",
        "        my_string = my_string.replace('  ', ' ')\n",
        "\n",
        "    return my_string.strip().split()"
      ],
      "metadata": {
        "id": "YWWbNS1n1BBe"
      },
      "execution_count": null,
      "outputs": []
    },
    {
      "cell_type": "markdown",
      "source": [
        "### 배열의 길이에 따라 다른 연산하기\n"
      ],
      "metadata": {
        "id": "TW1l5ei9y485"
      }
    },
    {
      "cell_type": "code",
      "source": [
        "# 정수 배열 arr과 정수 n이 매개변수로 주어집니다. arr의 길이가 홀수라면 arr의 모든 짝수 인덱스 위치에 n을 더한 배열을,\n",
        "# arr의 길이가 짝수라면 arr의 모든 홀수 인덱스 위치에 n을 더한 배열을 return 하는 solution 함수를 작성해 주세요.\n",
        "\n",
        "# 입출력 예\n",
        "# arr\tn\tresult\n",
        "# [49, 12, 100, 276, 33]\t27\t[76, 12, 127, 276, 60]\n",
        "# [444, 555, 666, 777]\t100\t[444, 655, 666, 877]\n",
        "\n",
        "# 내 풀이 \n",
        "def solution(arr, n):\n",
        "    answer = []\n",
        "    if len(arr) % 2 == 0:\n",
        "        for i in range(len(arr)):\n",
        "            if i % 2 != 0:\n",
        "                answer.append(arr[i]+n)\n",
        "            else:\n",
        "                answer.append(arr[i])\n",
        "    else:\n",
        "        for i in range(len(arr)):\n",
        "            if i % 2 == 0:\n",
        "                answer.append(arr[i]+n)\n",
        "            else:\n",
        "                answer.append(arr[i])\n",
        "    return answer\n",
        "\n",
        "# 다른 사람 풀이\n",
        "\n",
        "def solution(arr, n):\n",
        "    N=len(arr)\n",
        "    if N%2:\n",
        "        for i in range(0,N,2): arr[i]+=n\n",
        "    else:\n",
        "        for i in range(1,N,2): arr[i]+=n\n",
        "    return arr"
      ],
      "metadata": {
        "id": "a3xzGR-5y5h9"
      },
      "execution_count": null,
      "outputs": []
    },
    {
      "cell_type": "markdown",
      "source": [
        "### 배열 비교하기\n"
      ],
      "metadata": {
        "id": "Dk3vVhiv30PR"
      }
    },
    {
      "cell_type": "code",
      "source": [
        "# 두 배열의 길이가 다르다면, 배열의 길이가 긴 쪽이 더 큽니다.\n",
        "# 배열의 길이가 같다면 각 배열에 있는 모든 원소의 합을 비교하여 다르다면 더 큰 쪽이 크고, 같다면 같습니다.\n",
        "# 두 정수 배열 arr1과 arr2가 주어질 때, 위에서 정의한 배열의 대소관계에 대하여 arr2가 크다면 -1, arr1이 크다면 1, 두 배열이 같다면 0을 return 하는 solution 함수를 작성해 주세요.\n",
        "\n",
        "# 입출력 예\n",
        "# arr1\tarr2\tresult\n",
        "# [49, 13]\t[70, 11, 2]\t-1\n",
        "# [100, 17, 84, 1]\t[55, 12, 65, 36]\t1\n",
        "# [1, 2, 3, 4, 5]\t[3, 3, 3, 3, 3]\t0\n",
        "\n",
        "# 내 풀이\n",
        "def solution(arr1, arr2):\n",
        "    if len(arr1) > len(arr2):\n",
        "        return 1\n",
        "    elif len(arr1) < len(arr2):\n",
        "        return -1\n",
        "    else:\n",
        "        if sum(arr1) > sum(arr2):\n",
        "            return 1\n",
        "        elif sum(arr1) < sum(arr2):\n",
        "            return -1\n",
        "        else:\n",
        "            return 0"
      ],
      "metadata": {
        "id": "iTFTmc1_30uz"
      },
      "execution_count": null,
      "outputs": []
    },
    {
      "cell_type": "markdown",
      "source": [
        "### l로 만들기"
      ],
      "metadata": {
        "id": "DYFvUTk-4ncP"
      }
    },
    {
      "cell_type": "code",
      "source": [
        "# 알파벳 소문자로 이루어진 문자열 myString이 주어집니다. 알파벳 순서에서 \"l\"보다 앞서는 모든 문자를 \"l\"로 바꾼 문자열을 return 하는 solution 함수를 완성해 주세요.\n",
        "\n",
        "# 입출력 예\n",
        "# myString\tresult\n",
        "# \"abcdevwxyz\"\t\"lllllvwxyz\"\n",
        "# \"jjnnllkkmm\"\t\"llnnllllmm\"\n",
        "\n",
        "# 내 풀이\n",
        "def solution(myString):\n",
        "    answer = []\n",
        "    for i in range(len(myString)):\n",
        "        if myString[i] < 'l':\n",
        "            answer.append('l')\n",
        "        else:\n",
        "            answer.append(myString[i])\n",
        "            \n",
        "            \n",
        "    return ''.join(answer)"
      ],
      "metadata": {
        "id": "aVCtMpF-4n3C"
      },
      "execution_count": null,
      "outputs": []
    },
    {
      "cell_type": "markdown",
      "source": [
        "### 순서 바꾸기\n"
      ],
      "metadata": {
        "id": "T1DNWupZ7P-G"
      }
    },
    {
      "cell_type": "code",
      "source": [
        "# 정수 리스트 num_list와 정수 n이 주어질 때, \n",
        "# num_list를 n 번째 원소 이후의 원소들과 n 번째까지의 원소들로 나눠 n 번째 원소 이후의 원소들을 n 번째까지의 원소들 앞에 붙인 리스트를 return하도록 solution 함수를 완성해주세요\n",
        "\n",
        "# 입출력 예\n",
        "# num_list\tn\tresult\n",
        "# [2, 1, 6]\t1\t[1, 6, 2]\n",
        "# [5, 2, 1, 7, 5]\t3\t[7, 5, 5, 2, 1]\n",
        "\n",
        "# 내풀이\n",
        "def solution(num_list, n):\n",
        "    answer = []\n",
        "    answer.append(num_list[n:])\n",
        "    answer.append(num_list[:n])\n",
        "    \n",
        "    return sum(answer,[])\n",
        "\n",
        "# 다른사람 풀이\n",
        "def solution(num_list, n):\n",
        "    return num_list[n:] + num_list[:n]"
      ],
      "metadata": {
        "id": "0SCd8FVK7RWj"
      },
      "execution_count": null,
      "outputs": []
    },
    {
      "cell_type": "markdown",
      "source": [
        "### 부분 문자열 이어 붙여 문자열 만들기"
      ],
      "metadata": {
        "id": "ERzKZna2fie7"
      }
    },
    {
      "cell_type": "code",
      "source": [
        "# 길이가 같은 문자열 배열 my_strings와 이차원 정수 배열 parts가 매개변수로 주어집니다. parts[i]는 [s, e] 형태로, my_string[i]의 인덱스 s부터 인덱스 e까지의 부분 문자열을 의미합니다. \n",
        "# 각 my_strings의 원소의 parts에 해당하는 부분 문자열을 순서대로 이어 붙인 문자열을 return 하는 solution 함수를 작성해 주세요.\n",
        "\n",
        "\n",
        "# 입출력 예\n",
        "# my_strings\tparts\tresult\n",
        "# [\"progressive\", \"hamburger\", \"hammer\", \"ahocorasick\"]\t[[0, 4], [1, 2], [3, 5], [7, 7]]\t\"programmers\"\n",
        "\n",
        "# 내 풀이\n",
        "def solution(my_strings, parts):\n",
        "    answer = []\n",
        "    for i in range(len(my_strings)):\n",
        "        answer.append(my_strings[i][ parts[i][0] : parts[i][1]+1 ])\n",
        "    return ''.join(answer)\n",
        "\n",
        "\n",
        "# 다른 사람 풀이\n",
        "def solution(my_strings, parts):\n",
        "    answer = \"\"\n",
        "    for i, (s, e) in enumerate(parts):\n",
        "        answer += my_strings[i][s:e+1]\n",
        "    return answer\n",
        "\n",
        "\n",
        "# 다른 사람 풀이 2\n",
        "def solution(my_strings, parts):\n",
        "    return ''.join(my_strings[i][parts[i][0]:parts[i][1]+1] for i in range(len(my_strings)))"
      ],
      "metadata": {
        "id": "lt1A3PzEfj2B"
      },
      "execution_count": null,
      "outputs": []
    },
    {
      "cell_type": "markdown",
      "source": [
        "### 할 일 목록"
      ],
      "metadata": {
        "id": "yenAkXIBhO73"
      }
    },
    {
      "cell_type": "code",
      "source": [
        "# 오늘 해야 할 일이 담긴 문자열 배열 todo_list와 각각의 일을 지금 마쳤는지를 나타내는 boolean 배열 finished가 매개변수로 주어질 때,\n",
        "# todo_list에서 아직 마치지 못한 일들을 순서대로 담은 문자열 배열을 return 하는 solution 함수를 작성해 주세요.\n",
        "\n",
        "# 입출력 예\n",
        "# todo_list\tfinished\tresult\n",
        "# [\"problemsolving\", \"practiceguitar\", \"swim\", \"studygraph\"]\t[true, false, true, false]\t[\"practiceguitar\", \"studygraph]\n",
        "\n",
        "# 내 풀이\n",
        "def solution(todo_list, finished):\n",
        "    answer = []\n",
        "    for i in range(len(todo_list)):\n",
        "        if finished[i] == False:\n",
        "            answer.append(todo_list[i])\n",
        "            \n",
        "    return answer\n",
        "            \n",
        "\n",
        "# 다른 사람 풀이\n",
        "def solution(todo_list, finished):\n",
        "    return [work for idx, work in enumerate(todo_list) if not finished[idx]]"
      ],
      "metadata": {
        "id": "ucQFrehohPWJ"
      },
      "execution_count": null,
      "outputs": []
    },
    {
      "cell_type": "markdown",
      "source": [
        "### 문자열 잘라서 정렬하기"
      ],
      "metadata": {
        "id": "gnXqPpeMYRIq"
      }
    },
    {
      "cell_type": "code",
      "source": [
        "# 문자열 myString이 주어집니다. \"x\"를 기준으로 해당 문자열을 잘라내 배열을 만든 후 사전순으로 정렬한 배열을 return 하는 solution 함수를 완성해 주세요.\n",
        "\n",
        "# 단, 빈 문자열은 반환할 배열에 넣지 않습니다.\n",
        "\n",
        "# 입출력 예\n",
        "# myString\tresult\n",
        "# \"axbxcxdx\"\t[\"a\",\"b\",\"c\",\"d\"]\n",
        "# \"dxccxbbbxaaaa\"\t[\"aaaa\",\"bbb\",\"cc\",\"d\"]\n",
        "\n",
        "# 내 풀이\n",
        "def solution(myString):\n",
        "    str = myString.split('x')\n",
        "    sol = list(sorted(str))\n",
        "    return list(filter(None,sol))\n",
        "\n",
        "# 다른 사람 풀이\n",
        "def solution(myString):\n",
        "    return sorted(ch for ch in myString.split('x') if ch)"
      ],
      "metadata": {
        "id": "XKn8LKDaYRqV"
      },
      "execution_count": null,
      "outputs": []
    },
    {
      "cell_type": "markdown",
      "source": [
        "### x 사이의 개수\n"
      ],
      "metadata": {
        "id": "wtOy0h8xZUme"
      }
    },
    {
      "cell_type": "code",
      "source": [
        "# 문자열 myString이 주어집니다. myString을 문자 \"x\"를 기준으로 나눴을 때 나눠진 문자열 각각의 길이를 순서대로 저장한 배열을 return 하는 solution 함수를 완성해 주세요.\n",
        "\n",
        "# 입출력 예\n",
        "# myString\tresult\n",
        "# \"oxooxoxxox\"\t[1, 2, 1, 0, 1, 0]\n",
        "# \"xabcxdefxghi\"\t[0, 3, 3, 3]\n",
        "\n",
        "# 내 풀이\n",
        "def solution(myString):\n",
        "    str = myString.split('x')\n",
        "    answer = []\n",
        "    for i in str:\n",
        "        answer.append(len(i))\n",
        "    return answer\n",
        "\n",
        "# 다른 사람 풀이\n",
        "def solution(myString):\n",
        "    return [len(w) for w in myString.split('x')]\n",
        "\n",
        "# 다른 사람풀이\n",
        "def solution(myString):\n",
        "    return list(map(lambda x: len(x), myString.split('x')))"
      ],
      "metadata": {
        "id": "F0wO1K2OZVQU"
      },
      "execution_count": null,
      "outputs": []
    },
    {
      "cell_type": "markdown",
      "source": [
        "### ad 제거하기"
      ],
      "metadata": {
        "id": "EtFBIAuVfled"
      }
    },
    {
      "cell_type": "code",
      "source": [
        "# 문자열 배열 strArr가 주어집니다. 배열 내의 문자열 중 \"ad\"라는 부분 문자열을 포함하고 있는 모든 문자열을 제거하고 남은 문자열을 순서를 유지하여 배열로 return 하는 solution 함수를 완성해 주세요.\n",
        "\n",
        "# 입출력 예\n",
        "# strArr\tresult\n",
        "# [\"and\",\"notad\",\"abcd\"]\t[\"and\",\"abcd\"]\n",
        "# [\"there\",\"are\",\"no\",\"a\",\"ds\"]\t[\"there\",\"are\",\"no\",\"a\",\"ds\"]\n",
        "\n",
        "# 내 풀이\n",
        "def solution(strArr):\n",
        "    answer = []\n",
        "    for i in strArr:\n",
        "        if 'ad' not in i:\n",
        "            answer.append(i)\n",
        "            \n",
        "    return answer"
      ],
      "metadata": {
        "id": "WQZ45EgPfl5j"
      },
      "execution_count": null,
      "outputs": []
    },
    {
      "cell_type": "markdown",
      "source": [
        "### 9로 나눈 나머지"
      ],
      "metadata": {
        "id": "Ff2ZPF7NhAA6"
      }
    },
    {
      "cell_type": "code",
      "source": [
        "# 음이 아닌 정수를 9로 나눈 나머지는 그 정수의 각 자리 숫자의 합을 9로 나눈 나머지와 같은 것이 알려져 있습니다.\n",
        "# 이 사실을 이용하여 음이 아닌 정수가 문자열 number로 주어질 때, 이 정수를 9로 나눈 나머지를 return 하는 solution 함수를 작성해주세요.\n",
        "\n",
        "# 입출력 예\n",
        "# number\tresult\n",
        "# \"123\"\t6\n",
        "# \"78720646226947352489\"\t2\n",
        "\n",
        "# 내 풀이\n",
        "def solution(number):\n",
        "    \n",
        "    return int(number) % 9\n",
        "\n",
        "# 다른 사람 풀이\n",
        "def solution(number):\n",
        "    return sum(list(map(int, number))) % 9"
      ],
      "metadata": {
        "id": "1lqrkrRDhAc7"
      },
      "execution_count": null,
      "outputs": []
    },
    {
      "cell_type": "markdown",
      "source": [
        "### 가까운 수"
      ],
      "metadata": {
        "id": "scrNfX7ApPPm"
      }
    },
    {
      "cell_type": "code",
      "source": [
        "# 정수 배열 array와 정수 n이 매개변수로 주어질 때, array에 들어있는 정수 중 n과 가장 가까운 수를 return 하도록 solution 함수를 완성해주세요.\n",
        "\n",
        "# 입출력 예\n",
        "# array\tn\tresult\n",
        "# [3, 10, 28]\t20\t28\n",
        "# [10, 11, 12]\t13\t12\n",
        "\n",
        "# 내 풀이\n",
        "\n",
        "def solution(array, n):\n",
        "    answer = []\n",
        "    for i in array:\n",
        "        answer.append(n-i)\n",
        "    m = min(answer)\n",
        "    ind = answer.index(m)\n",
        "    return array[ind]"
      ],
      "metadata": {
        "id": "Xc123BVNpPwx"
      },
      "execution_count": null,
      "outputs": []
    },
    {
      "cell_type": "markdown",
      "source": [
        "### 모스부호 (1)"
      ],
      "metadata": {
        "id": "KVUgsh8Y3-zd"
      }
    },
    {
      "cell_type": "code",
      "source": [
        "# 머쓱이는 친구에게 모스부호를 이용한 편지를 받았습니다. 그냥은 읽을 수 없어 이를 해독하는 프로그램을 만들려고 합니다. 문자열 letter가 매개변수로 주어질 때,\n",
        "# letter를 영어 소문자로 바꾼 문자열을 return 하도록 solution 함수를 완성해보세요.\n",
        "# 모스부호는 다음과 같습니다.\n",
        "# morse = { \n",
        "#     '.-':'a','-...':'b','-.-.':'c','-..':'d','.':'e','..-.':'f',\n",
        "#     '--.':'g','....':'h','..':'i','.---':'j','-.-':'k','.-..':'l',\n",
        "#     '--':'m','-.':'n','---':'o','.--.':'p','--.-':'q','.-.':'r',\n",
        "#     '...':'s','-':'t','..-':'u','...-':'v','.--':'w','-..-':'x',\n",
        "#     '-.--':'y','--..':'z'\n",
        "# }\n",
        "\n",
        "\n",
        "# 입출력 예\n",
        "# letter\tresult\n",
        "# \".... . .-.. .-.. ---\"\t\"hello\"\n",
        "# \".--. -.-- - .... --- -.\"\t\"python\"\n",
        "\n",
        "\n",
        "# 내 풀이\n",
        "def solution(letter):\n",
        "    morse = { \n",
        "    '.-':'a','-...':'b','-.-.':'c','-..':'d','.':'e','..-.':'f',\n",
        "    '--.':'g','....':'h','..':'i','.---':'j','-.-':'k','.-..':'l',\n",
        "    '--':'m','-.':'n','---':'o','.--.':'p','--.-':'q','.-.':'r',\n",
        "    '...':'s','-':'t','..-':'u','...-':'v','.--':'w','-..-':'x',\n",
        "    '-.--':'y','--..':'z'\n",
        "    }\n",
        "    answer = ''\n",
        "    letter = letter.split()\n",
        "    for i in letter:\n",
        "        answer += morse.get(i)\n",
        "    return answer\n",
        "\n",
        "# 다른 사람 풀이\n",
        "\n",
        "def solution(letter):\n",
        "    morse = {\n",
        "        '.-':'a','-...':'b','-.-.':'c','-..':'d','.':'e','..-.':'f',\n",
        "        '--.':'g','....':'h','..':'i','.---':'j','-.-':'k','.-..':'l',\n",
        "        '--':'m','-.':'n','---':'o','.--.':'p','--.-':'q','.-.':'r',\n",
        "        '...':'s','-':'t','..-':'u','...-':'v','.--':'w','-..-':'x',\n",
        "        '-.--':'y','--..':'z'\n",
        "    }\n",
        "\n",
        "    return ''.join([morse[i] for i in letter.split(' ')])"
      ],
      "metadata": {
        "id": "akFip0593_OO"
      },
      "execution_count": null,
      "outputs": []
    },
    {
      "cell_type": "markdown",
      "source": [
        "### 0 떼기"
      ],
      "metadata": {
        "id": "XuyqcGKl5rQ3"
      }
    },
    {
      "cell_type": "code",
      "source": [
        "# 정수로 이루어진 문자열 n_str이 주어질 때, n_str의 가장 왼쪽에 처음으로 등장하는 0들을 뗀 문자열을 return하도록 solution 함수를 완성해주세요.\n",
        "\n",
        "# 입출력 예\n",
        "# n_str\tresult\n",
        "# \"0010\"\t\"10\"\n",
        "# \"854020\"\t\"854020\"\n",
        "\n",
        "# 내 풀이\n",
        "def solution(n_str):\n",
        "    return str(int(n_str))"
      ],
      "metadata": {
        "id": "GLUfnP2v5rpm"
      },
      "execution_count": null,
      "outputs": []
    },
    {
      "cell_type": "markdown",
      "source": [
        "### 배열 회전시키기"
      ],
      "metadata": {
        "id": "dqcSK3mheHy7"
      }
    },
    {
      "cell_type": "code",
      "source": [
        "# 정수가 담긴 배열 numbers와 문자열 direction가 매개변수로 주어집니다. 배열 numbers의 원소를 direction방향으로 한 칸씩 회전시킨 배열을 return하도록 solution 함수를 완성해주세요.\n",
        "\n",
        "# 입출력 예\n",
        "# numbers\tdirection\tresult\n",
        "# [1, 2, 3]\t\"right\"\t[3, 1, 2]\n",
        "# [4, 455, 6, 4, -1, 45, 6]\t\"left\"\t[455, 6, 4, -1, 45, 6, 4]\n",
        "\n",
        "# 내 풀이\n",
        "def solution(numbers, direction):\n",
        "    if direction == 'right':\n",
        "        return numbers[len(numbers)-1:] + numbers[:len(numbers)-1]\n",
        "    else:\n",
        "        return numbers[1:] + numbers[:1]\n",
        "\n",
        "# 다른 사람 풀이\n",
        "def solution(numbers, direction):\n",
        "    if direction == \"right\":\n",
        "        answer = [numbers[-1]] + numbers[:len(numbers)-1]\n",
        "    else:\n",
        "        answer = numbers[1:] + [numbers[0]]\n",
        "    return answer"
      ],
      "metadata": {
        "id": "5trrYnLUeIM8"
      },
      "execution_count": null,
      "outputs": []
    },
    {
      "cell_type": "markdown",
      "source": [
        "### 접미사 배열"
      ],
      "metadata": {
        "id": "_6HOKS4CfBft"
      }
    },
    {
      "cell_type": "code",
      "source": [
        "# 어떤 문자열에 대해서 접미사는 특정 인덱스부터 시작하는 문자열을 의미합니다. 예를 들어, \"banana\"의 모든 접미사는 \"banana\", \"anana\", \"nana\", \"ana\", \"na\", \"a\"입니다.\n",
        "# 문자열 my_string이 매개변수로 주어질 때, my_string의 모든 접미사를 사전순으로 정렬한 문자열 배열을 return 하는 solution 함수를 작성해 주세요.\n",
        "\n",
        "# 입출력 예\n",
        "# my_string\tresult\n",
        "# \"banana\"\t[\"a\", \"ana\", \"anana\", \"banana\", \"na\", \"nana\"]\n",
        "# \"programmers\"\t[\"ammers\", \"ers\", \"grammers\", \"mers\", \"mmers\", \"ogrammers\", \"programmers\", \"rammers\", \"rogrammers\", \"rs\", \"s\"]\n",
        "\n",
        "# 내 풀이\n",
        "def solution(my_string):\n",
        "    answer = []\n",
        "    for i in range(len(my_string)):\n",
        "        answer.append(my_string[i:])\n",
        "    return sorted(answer)\n",
        "\n",
        "# 다른 사람 풀이\n",
        "def solution(my_string):\n",
        "    return sorted(my_string[i:] for i in range(len(my_string)))"
      ],
      "metadata": {
        "id": "7FsAboJIfCHT"
      },
      "execution_count": null,
      "outputs": []
    },
    {
      "cell_type": "markdown",
      "source": [
        "### 5명씩"
      ],
      "metadata": {
        "id": "K6ZwtXSFfw72"
      }
    },
    {
      "cell_type": "code",
      "source": [
        "# 최대 5명씩 탑승가능한 놀이기구를 타기 위해 줄을 서있는 사람들의 이름이 담긴 문자열 리스트 names가 주어질 때, \n",
        "# 앞에서 부터 5명씩 묶은 그룹의 가장 앞에 서있는 사람들의 이름을 담은 리스트를 return하도록 solution 함수를 완성해주세요. 마지막 그룹이 5명이 되지 않더라도 가장 앞에 있는 사람의 이름을 포함합니다.\n",
        "\n",
        "# 입출력 예\n",
        "# names\tresult\n",
        "# [\"nami\", \"ahri\", \"jayce\", \"garen\", \"ivern\", \"vex\", \"jinx\"]\t[\"nami\", \"vex\"]\n",
        "\n",
        "# 내 풀이\n",
        "def solution(names):\n",
        "    li = []\n",
        "    li.append(names[::5])\n",
        "    return sum(li,[])"
      ],
      "metadata": {
        "id": "hPYef9U8fxZN"
      },
      "execution_count": null,
      "outputs": []
    },
    {
      "cell_type": "markdown",
      "source": [
        "### 간단한 식 계산하기"
      ],
      "metadata": {
        "id": "hrZOCbOPlUBy"
      }
    },
    {
      "cell_type": "code",
      "source": [
        "# 문자열 binomial이 매개변수로 주어집니다. binomial은 \"a op b\" 형태의 이항식이고 a와 b는 음이 아닌 정수, \n",
        "# op는 '+', '-', '*' 중 하나입니다. 주어진 식을 계산한 정수를 return 하는 solution 함수를 작성해 주세요.\n",
        "\n",
        "# 입출력 예\n",
        "# binomial\tresult\n",
        "# \"43 + 12\"\t55\n",
        "# \"0 - 7777\"\t-7777\n",
        "# \"40000 * 40000\"\t1600000000\n",
        "\n",
        "# 내 풀이\n",
        "def solution(binomial):\n",
        "    return eval(binomial)\n",
        "\n",
        "# 다른 사람풀이"
      ],
      "metadata": {
        "id": "VrHlEQ3ylUd7"
      },
      "execution_count": null,
      "outputs": []
    },
    {
      "cell_type": "markdown",
      "source": [
        "### 날짜 비교하기"
      ],
      "metadata": {
        "id": "M5_DyoBQ2_80"
      }
    },
    {
      "cell_type": "code",
      "source": [
        "# 정수 배열 date1과 date2가 주어집니다. 두 배열은 각각 날짜를 나타내며 [year, month, day] 꼴로 주어집니다. 각 배열에서 year는 연도를, month는 월을, day는 날짜를 나타냅니다.\n",
        "# 만약 date1이 date2보다 앞서는 날짜라면 1을, 아니면 0을 return 하는 solution 함수를 완성해 주세요.\n",
        "\n",
        "# 입출력 예\n",
        "# date1\tdate2\tresult\n",
        "# [2021, 12, 28]\t[2021, 12, 29]\t1\n",
        "# [1024, 10, 24]\t[1024, 10, 24]\t0\n",
        "\n",
        "# 내 풀이\n",
        "def solution(date1, date2):\n",
        "    if date1[0] != date2[0]:\n",
        "        if date1[0] > date2[0]:\n",
        "            return 0\n",
        "        else:\n",
        "            return 1\n",
        "    if date1[1] != date2[1]:\n",
        "        if date1[1] > date2[1]:\n",
        "            return 0\n",
        "        else:\n",
        "            return 1\n",
        "    if date1[2] != date2[2]:\n",
        "        if date1[2] > date2[2]:\n",
        "            return 0\n",
        "        else:\n",
        "            return 1\n",
        "    else:\n",
        "        return 0\n",
        "\n",
        "# 다른 사람 풀이\n",
        "def solution(date1, date2):\n",
        "    return int(date1 < date2)\n",
        "\n",
        "# 다른 사람 풀이\n",
        "ef solution(date1, date2):\n",
        "    for i in range(3):\n",
        "        if date1[i]<date2[i]:return 1\n",
        "        elif date2[i]<date1[i]: return 0\n",
        "    return 0\n"
      ],
      "metadata": {
        "id": "dGcmHihI3Bvb"
      },
      "execution_count": null,
      "outputs": []
    }
  ]
}